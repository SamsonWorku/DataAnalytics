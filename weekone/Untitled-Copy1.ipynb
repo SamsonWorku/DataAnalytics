{
 "cells": [
  {
   "cell_type": "code",
   "execution_count": 9,
   "metadata": {},
   "outputs": [
    {
     "data": {
      "text/plain": [
       "['.ipynb_checkpoints',\n",
       " '201709dsp.pdf',\n",
       " 'liquorScrape.py',\n",
       " 'untitled',\n",
       " 'Untitled-Copy1.ipynb',\n",
       " 'Untitled.ipynb']"
      ]
     },
     "execution_count": 9,
     "metadata": {},
     "output_type": "execute_result"
    }
   ],
   "source": [
    "import os\n",
    "os.getcwd()\n",
    "\n",
    "os.chdir('c:\\python36\\lib\\site-packages')\n",
    "os.listdir()\n",
    "import PyPDF2\n",
    "os.chdir('c:\\\\Users\\GBTC408002ur\\Documents\\ImmersiveDataAnalytics\\LiquorSales')\n",
    "os.getcwd()\n",
    "os.listdir()\n"
   ]
  },
  {
   "cell_type": "code",
   "execution_count": 10,
   "metadata": {},
   "outputs": [
    {
     "name": "stdout",
     "output_type": "stream",
     "text": [
      "new_text http://www.ttb.govNOTE:Changes in figures from prior reports could be due to amended reports being filed.            This data is not final and may need to be amended.             Data does not contain re-distillation.\n",
      "            WG stands for wine gallons. LBS stands for pounds.            All other figures are in proof gallons (PG) unless otherwise specified. A proof gallon is a gallon of liquid at 60 degrees Fahrenheit which contains 50\n",
      " percent by volume of ethyl alcohol having a specific gravity of 0.7939 at 60 degrees Fahrenheit referred to water at 60 degrees Fahrenheit as unity, or the alcoholic equivalent thereof.Net Production   Whisky   Brandy   Rum, Gin & Vodka   Alcohol        Production TotalWithdrawalsTax Free:   For Addition to Wine Total   For export, transfer to CBW & FTZ *   For use US, Hospital, Education   For research, testing        Tax Free Total 13,870,470,516Materials Used in Production (in LBS)   Corn 20,015,657   Rye   Malt, Barley, Rice & Other 215,862,441   Wheat & Sorghum 12,091,962        Total Grain 14,118,440,576 47,805,729 30,505,546 155,267,568 361,836 232,425 186,367,375End-of-Month Inventory   Whisky   Rum, Gin & Vodka   Alcohol and Spirits   Miscellaneous        TotalDEPARTMENT OF THE TREASURYALCOHOL AND TOBACCO TAX AND TRADE BUREAUSTATISTICAL REPORT - DISTILLED SPIRITReport Date:22-NOV-2017Page:1 of 3Reporting Period:September 2017Prior YearCurrent MonthCurrent Month  1,524,402,265 1,537,394,715 640,741 717,636,948 1,404,145,421\n",
      " 1,422,264,102 669,950 12,120,161,398 24,826,809 229,743,581 45,876,330 12,420,608,118 30,797,633 8,700,511 104,448,846 142,955 61,312 113,353,624 542,449   Brandy 950,898,496 Report Symbol: TTB S 5110-09-2017 10,397,242 1,954,467 12,125,327 5,323,404 39,831,636 7,324,706 185,562,757 661,702,988 727,063 907,899,751 41,354,769 5,019,528 199,095,403 280,305,711 291,596,212 1,510,418,516 1,710,067 1,840,078,253 36,353,458Prior YearCumulativeYear to DateCurrent YearCumulativeYear to Date 14,054,054,260 13,912,223,059 5,877,377 12,586,889,000\n",
      " 12,730,561,333 4,943,370 262,623,166 177,906,019 820,315,767 21,323,600 1,011,598 1,020,556,984 128,182,362 7,771,462 125,509,261 13,219,702 123,710,325,220 234,281,567 2,083,906,387 554,122,336 126,582,635,510 113,698,702,618 233,122,336 2,020,391,826 720,686,616 116,672,903,396   Taxable Total*CBW=Custom's Bonded Warehouse; FTZ=Foreign Trade Zone\n",
      "\n"
     ]
    }
   ],
   "source": [
    "#import PyPDF2\n",
    "os.getcwd()\n",
    "pdfFileObj = open('201709dsp.pdf','rb' )\n",
    "pdfReader = PyPDF2.PdfFileReader(pdfFileObj)\n",
    "pdfReader.numPages\n",
    "\n",
    "pageObj = pdfReader.getPage(0)\n",
    "new_text = pageObj.extractText()\n",
    "print('new_text',new_text)\n"
   ]
  },
  {
   "cell_type": "code",
   "execution_count": null,
   "metadata": {
    "collapsed": true
   },
   "outputs": [],
   "source": []
  }
 ],
 "metadata": {
  "kernelspec": {
   "display_name": "Python 3",
   "language": "python",
   "name": "python3"
  },
  "language_info": {
   "codemirror_mode": {
    "name": "ipython",
    "version": 3
   },
   "file_extension": ".py",
   "mimetype": "text/x-python",
   "name": "python",
   "nbconvert_exporter": "python",
   "pygments_lexer": "ipython3",
   "version": "3.6.3"
  }
 },
 "nbformat": 4,
 "nbformat_minor": 2
}
