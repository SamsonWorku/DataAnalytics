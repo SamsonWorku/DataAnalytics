{
 "cells": [
  {
   "cell_type": "code",
   "execution_count": 56,
   "metadata": {},
   "outputs": [],
   "source": [
    "import requests\n",
    "import json\n",
    "import pandas as pd\n",
    "import os\n"
   ]
  },
  {
   "cell_type": "code",
   "execution_count": 57,
   "metadata": {},
   "outputs": [
    {
     "data": {
      "text/plain": [
       "'C:\\\\Users\\\\GBTC408002ur\\\\Documents\\\\lvl2 data'"
      ]
     },
     "execution_count": 57,
     "metadata": {},
     "output_type": "execute_result"
    }
   ],
   "source": [
    "os.getcwd()"
   ]
  },
  {
   "cell_type": "code",
   "execution_count": 58,
   "metadata": {},
   "outputs": [],
   "source": [
    "with open('./datasets/apinews_key.txt') as file:\n",
    "    for line in file:\n",
    "        api_key = line"
   ]
  },
  {
   "cell_type": "code",
   "execution_count": 72,
   "metadata": {},
   "outputs": [],
   "source": [
    "url =\"https://newsapi.org/v2/everything?q=Apple&from=2019-04-07&sortBy=publishedAt&apiKey=\""
   ]
  },
  {
   "cell_type": "code",
   "execution_count": 73,
   "metadata": {},
   "outputs": [],
   "source": [
    "#in the request to the website, give it the url and add the API key at the end\n",
    "response = requests.get(url+api_key)"
   ]
  },
  {
   "cell_type": "code",
   "execution_count": 74,
   "metadata": {},
   "outputs": [
    {
     "name": "stdout",
     "output_type": "stream",
     "text": [
      "https://newsapi.org/v2/everything?q=Apple&from=2019-04-07&sortBy=publishedAt&apiKey=68b5157a44b64185904ce5f648b0c1e6\n",
      "\n"
     ]
    }
   ],
   "source": [
    "print(url+api_key)"
   ]
  },
  {
   "cell_type": "code",
   "execution_count": 75,
   "metadata": {},
   "outputs": [
    {
     "data": {
      "text/plain": [
       "<Response [401]>"
      ]
     },
     "execution_count": 75,
     "metadata": {},
     "output_type": "execute_result"
    }
   ],
   "source": [
    "response"
   ]
  },
  {
   "cell_type": "code",
   "execution_count": null,
   "metadata": {},
   "outputs": [],
   "source": []
  },
  {
   "cell_type": "code",
   "execution_count": 76,
   "metadata": {},
   "outputs": [],
   "source": [
    "newsdata = response.json()"
   ]
  },
  {
   "cell_type": "code",
   "execution_count": 77,
   "metadata": {},
   "outputs": [
    {
     "data": {
      "text/plain": [
       "{'status': 'error',\n",
       " 'code': 'apiKeyInvalid',\n",
       " 'message': 'Your API key is invalid or incorrect. Check your key, or go to https://newsapi.org to create a free API key.'}"
      ]
     },
     "execution_count": 77,
     "metadata": {},
     "output_type": "execute_result"
    }
   ],
   "source": [
    "newsdata"
   ]
  },
  {
   "cell_type": "code",
   "execution_count": 133,
   "metadata": {},
   "outputs": [],
   "source": [
    "url = ('https://newsapi.org/v2/everything?q=suicide&from=2019-04-07&sortBy=popularity&apiKey=68b5157a44b64185904ce5f648b0c1e6')"
   ]
  },
  {
   "cell_type": "code",
   "execution_count": 137,
   "metadata": {},
   "outputs": [],
   "source": [
    "response=requests.get(url)"
   ]
  },
  {
   "cell_type": "code",
   "execution_count": 138,
   "metadata": {},
   "outputs": [
    {
     "name": "stdout",
     "output_type": "stream",
     "text": [
      "{'status': 'ok', 'totalResults': 16283, 'articles': [{'source': {'id': None, 'name': 'Lifehacker.com'}, 'author': 'Emily Price', 'title': 'How to Help the Victims of the Sri Lanka Bombings', 'description': 'Nine bombings occurred in Sri Lanka on Easter Sunday, killing 290 people and injuring more than 500, including several U.S. citizens. Read more...', 'url': 'https://lifehacker.com/how-to-help-the-victims-of-the-sri-lanka-bombings-1834217046', 'urlToImage': 'https://i.kinja-img.com/gawker-media/image/upload/s--RcHtRhxd--/c_fill,fl_progressive,g_center,h_900,q_80,w_1600/adgev2ivw8enmax7h1s2.jpg', 'publishedAt': '2019-04-22T18:10:00Z', 'content': 'Nine bombings occurred in Sri Lanka on Easter Sunday, killing 290 people and injuring more than 500, including several U.S. citizens.\\r\\nThe bombings occurred in churches in Negomonbo, Batticaloa, and Colombo around 8:45am on Sunday. Bombings also occurred at a… [+2030 chars]'}, {'source': {'id': None, 'name': 'Lifehacker.com'}, 'author': 'Meghan Moravcik Walbert', 'title': 'How to Find a LGBTQ-Affirming Therapist', 'description': 'Finding the right therapist—someone you trust, someone you like, someone you click with—is important for anyone to ensure their therapy is effective. But for those who identify as LGBTQ, finding a therapist who is LGBTQ or LGBTQ-affirming is critical for crea…', 'url': 'https://lifehacker.com/how-to-find-a-lgbtq-affirming-therapist-1834383647', 'urlToImage': 'https://i.kinja-img.com/gawker-media/image/upload/s--clLlgoHf--/c_fill,fl_progressive,g_center,h_900,q_80,w_1600/pt45pritbz0ho4m5qpzd.jpg', 'publishedAt': '2019-04-30T17:00:00Z', 'content': 'Finding the right therapistsomeone you trust, someone you like, someone you click withis important for anyone to ensure their therapy is effective. But for those who identify as LGBTQ, finding a therapist who is LGBTQ or LGBTQ-affirming is critical for creati… [+3443 chars]'}, {'source': {'id': 'engadget', 'name': 'Engadget'}, 'author': 'Christine Fisher', 'title': 'Sri Lanka lifts social media ban nine days after terrorist bombings', 'description': \"Sri Lanka's president ordered an end to the country's temporary ban on social media. The ban was instituted after devastating suicide bombings on Easter Sunday left more than 250 people dead. According to the New York Times, the government issued a statement …\", 'url': 'https://www.engadget.com/2019/04/30/sri-lanka-social-media-ban-lifted/', 'urlToImage': 'https://o.aolcdn.com/images/dims?thumbnail=1200%2C630&quality=80&image_uri=https%3A%2F%2Fo.aolcdn.com%2Fimages%2Fdims%3Fcrop%3D3348%252C2483%252C0%252C0%26quality%3D85%26format%3Djpg%26resize%3D1600%252C1187%26image_uri%3Dhttps%253A%252F%252Fs.yimg.com%252Fos%252Fcreatr-images%252F2019-04%252F3d5b9f80-6b19-11e9-af7f-388ee47d515a%26client%3Da1acac3e1b3290917d92%26signature%3Dafa305c2da474a173219ab0f547c70051aa4d43d&client=amp-blogside-v2&signature=e8bf2f19c344bf3fabe0743e7e059c418fdecfaa', 'publishedAt': '2019-04-30T15:46:00Z', 'content': \"Facebook, Instagram, WhatsApp and Viber were reportedly among the platforms blocked. Nine days later, it's unclear if the restrictions helped curb violence or limit the spread of misinformation. Sri Lanka isn't the only country to block social media in an att… [+240 chars]\"}, {'source': {'id': 'wired', 'name': 'Wired'}, 'author': 'Louise Matsakis', 'title': 'Facebook Rolls Out More Features for Dead People', 'description': 'When you die, Facebook wants your profile to become a place for grieving friends and family to gather online.', 'url': 'https://www.wired.com/story/facebook-rolls-out-more-features-dead-people/', 'urlToImage': 'https://media.wired.com/photos/5cab9a53d709eb270e2ae3b7/191:100/pass/tombstones-173243050.jpg', 'publishedAt': '2019-04-09T13:00:00Z', 'content': 'Facebook was designed for the living, but as the social network grew older, it also needed to decide what should happen when users die. In 2015, Facebook began allowing people to assign a legacy contact to be in charge of their account in the event they pass … [+4867 chars]'}, {'source': {'id': 'techcrunch', 'name': 'TechCrunch'}, 'author': 'Jordan Crook', 'title': 'Small Door raises $3.5 million in seed funding to rethink veterinary care', 'description': 'Millennials are opting out of marriage and kids and instead opting for pet ownership, opening the door for pet-centric businesses to grow. Small Door is one such company. The startup has raised $3.5 million in seed funding to rethink veterinary services from …', 'url': 'http://techcrunch.com/2019/04/30/small-door-raises-3-5-million-in-seed-funding-to-rethink-veterinary-care/', 'urlToImage': 'https://techcrunch.com/wp-content/uploads/2019/04/SD-waiting-009.jpg?w=556', 'publishedAt': '2019-04-30T15:30:26Z', 'content': 'Millennials are opting out of marriage and kids and instead opting for pet ownership, opening the door for pet-centric businesses to grow.\\r\\nSmall Door is one such company. The startup has raised $3.5 million in seed funding to rethink veterinary services from… [+1299 chars]'}, {'source': {'id': 'techcrunch', 'name': 'TechCrunch'}, 'author': 'Natasha Lomas', 'title': 'UK sets out safety-focused plan to regulate Internet firms', 'description': 'The UK government has laid out proposals to regulate online and social media platforms, setting out the substance of its long-awaited White Paper on online harms today — and kicking off a public consultation. The Online Harms White Paper is a joint proposal f…', 'url': 'http://techcrunch.com/2019/04/08/uk-sets-out-safety-focused-plan-to-regulate-internet-firms/', 'urlToImage': 'https://techcrunch.com/wp-content/uploads/2018/12/GettyImages-819770758.jpg?w=619', 'publishedAt': '2019-04-08T10:45:25Z', 'content': 'The UK government has laid out proposals to regulate online and social media platforms, setting out the substance of its long-awaited White Paper on online harms today — and kicking off a public consultation.\\r\\nThe OnlineHarms White Paper is a joint proposal f… [+13635 chars]'}, {'source': {'id': None, 'name': 'Gizmodo.com'}, 'author': 'Melanie Ehrenkranz', 'title': 'Netflix Responds to Data Connecting 13 Reasons Why With Rise In Teen Suicides', 'description': '13 Reasons Why, a Netflix show exploring why its protagonist died by suicide, has sparked debate among the research community as to whether it contributed to an uptick in suicide rates. Netflix CEO Reed Hastings responded to this indictment after the first se…', 'url': 'https://gizmodo.com/netflix-responds-to-data-connecting-13-reasons-why-with-1834428024', 'urlToImage': 'https://i.kinja-img.com/gawker-media/image/upload/s--gXmNv3da--/c_fill,fl_progressive,g_center,h_900,q_80,w_1600/hetcsiyr4yjxsllkd8fd.jpg', 'publishedAt': '2019-04-30T22:15:00Z', 'content': '13 Reasons Why, a Netflix show exploring why its protagonist died by suicide, has sparked debate among the research community as to whether it contributed to an uptick in suicide rates. Netflix CEO Reed Hastings responded to this indictment after the first se… [+2128 chars]'}, {'source': {'id': None, 'name': 'Gizmodo.com'}, 'author': 'Melanie Ehrenkranz', 'title': 'Telecom Giant Orange on Trial in France After 19 Employees Died by Suicide', 'description': 'Orange, a French telecom giant, is being sued for moral harassment, among other charges, after 19 employees died by suicide and another 12 attempted to kill themselves over a three-year span. Over 100 people have claimed work culture at the company, contribut…', 'url': 'https://gizmodo.com/telecom-giant-orange-on-trial-in-france-after-19-employ-1834564469', 'urlToImage': 'https://i.kinja-img.com/gawker-media/image/upload/s--RQVMsBPo--/c_fill,fl_progressive,g_center,h_900,q_80,w_1600/vdxuk7kxkwloixadjdrs.jpg', 'publishedAt': '2019-05-06T22:25:00Z', 'content': 'Orange, a French telecom giant, is being sued for moral harassment, among other charges, after 19 employees died by suicide and another 12 attempted to kill themselves over a three-year span. Over 100 people have claimed work culture at the company, contribut… [+2837 chars]'}, {'source': {'id': None, 'name': 'Gizmodo.com'}, 'author': 'Ed Cara', 'title': 'News About Tragedies Makes Us Miserable—and Hungry for More, Study Finds', 'description': 'A new study out Wednesday might just reaffirm your worst fears about staying glued to Twitter or cable news during a mass tragedy like the latest school shooting. It suggests that getting exposed to media coverage of these events can create a vicious emotiona…', 'url': 'https://gizmodo.com/news-about-tragedies-makes-us-miserable-and-hungry-for-1834121287', 'urlToImage': 'https://i.kinja-img.com/gawker-media/image/upload/s--cZboYtpS--/c_fill,fl_progressive,g_center,h_900,q_80,w_1600/uhyy9wi9e2opu0l6ejug.jpg', 'publishedAt': '2019-04-17T21:25:00Z', 'content': 'A new study out Wednesday might just reaffirm your worst fears about staying glued to Twitter or cable news during a mass tragedy like the latest school shooting. It suggests that getting exposed to media coverage of these events can create a vicious emotiona… [+4146 chars]'}, {'source': {'id': None, 'name': 'Gizmodo.com'}, 'author': 'Tom McKay', 'title': 'India Lifts Its Ban on Video App TikTok, Allowing It to Return to Apple and Google App Stores', 'description': 'The Indian government lifted a ban on downloads of the TikTok video app on Wednesday, Reuters cited two lawyers in the case as saying, reversing orders for Apple and Google to remove the app from their stores. Read more...', 'url': 'https://gizmodo.com/india-lifts-its-ban-on-video-app-tiktok-allowing-it-to-1834288665', 'urlToImage': 'https://i.kinja-img.com/gawker-media/image/upload/s--nrasYadF--/c_fill,fl_progressive,g_center,h_900,q_80,w_1600/gbcsmwob4n6bqcs1wjo7.jpg', 'publishedAt': '2019-04-25T03:50:00Z', 'content': 'The Indian government lifted a ban on downloads of the TikTok video app on Wednesday, Reuters cited two lawyers in the case as saying, reversing orders for Apple and Google to remove the app from their stores.\\r\\nEarlier this month, the Indian Ministry of Elect… [+3138 chars]'}, {'source': {'id': None, 'name': 'Gizmodo.com'}, 'author': 'Ed Cara', 'title': 'Sleep Drugs Like Ambien Will Get a New FDA Warning About Potentially Fatal Side Effects', 'description': 'The Food and Drug Administration is forcing certain sleep drugs to carry a deadly serious warning about the rare, frightening side effects they can cause. The side effects, which have reportedly caused serious injuries and even deaths, include sleepwalking an…', 'url': 'https://gizmodo.com/sleep-drugs-like-ambien-will-get-a-new-fda-warning-abou-1834427816', 'urlToImage': 'https://i.kinja-img.com/gawker-media/image/upload/s--uhcwTSkV--/c_fill,fl_progressive,g_center,h_900,q_80,w_1600/utj91dryfdww3elq0sy0.jpg', 'publishedAt': '2019-04-30T21:55:00Z', 'content': 'The Food and Drug Administration is forcing certain sleep drugs to carry a deadly serious warning about the rare, frightening side effects they can cause. The side effects, which have reportedly caused serious injuries and even deaths, include sleepwalking an… [+2603 chars]'}, {'source': {'id': None, 'name': 'Gizmodo.com'}, 'author': 'Ed Cara', 'title': \"A Treatment That Uses Mild Shocks to Treat ADHD in Children Now Has the FDA's Blessing\", 'description': 'Families of children with attention deficit hyperactivity disorder (ADHD) will now have a new, non-drug, treatment available to manage the condition: a medical device attached to the forehead that sends mild shocks to the nervous system. Read more...', 'url': 'https://gizmodo.com/a-treatment-that-uses-mild-shocks-to-treat-adhd-in-chil-1834225468', 'urlToImage': 'https://i.kinja-img.com/gawker-media/image/upload/s--edacqWbr--/c_fill,fl_progressive,g_center,h_900,q_80,w_1600/dgdrlj6ka1kapfgn38xv.jpg', 'publishedAt': '2019-04-22T22:40:00Z', 'content': 'Families of children with attention deficit hyperactivity disorder (ADHD) will now have a new, non-drug, treatment available to manage the condition: a medical device attached to the forehead that sends mild shocks to the nervous system.\\r\\nOver the weekend, th… [+4709 chars]'}, {'source': {'id': 'the-new-york-times', 'name': 'The New York Times'}, 'author': 'AMY BARNHORST', 'title': 'The Empty Promise of Suicide Prevention', 'description': 'Many of the problems that lead people to kill themselves cannot be fixed with a little extra serotonin.', 'url': 'https://www.nytimes.com/2019/04/26/opinion/sunday/suicide-prevention.html', 'urlToImage': 'https://static01.nyt.com/images/2019/04/28/opinion/sunday/28barnhorst/28barnhorst-facebookJumbo.jpg', 'publishedAt': '2019-04-27T01:38:53Z', 'content': 'I asked the resident how he planned to help her while she was in the hospital. After a pause, he suggested meekly, Start her on an antidepressant?\\r\\nI could tell he knew how ridiculous it sounded.\\r\\nAs doctors, we want to help people, and it can be hard for us … [+1977 chars]'}, {'source': {'id': 'the-new-york-times', 'name': 'The New York Times'}, 'author': 'JEFFREY GETTLEMAN, DHARISHA BASTIANS and KAI SCHULTZ', 'title': 'Suicide Bombers Included Two Sons of Sri Lanka Spice Tycoon', 'description': 'The aura of success surrounding Mohammad Yusuf Ibrahim, head of a Sri Lanka spice empire, crashed on news that two of his sons were Easter Sunday bombers.', 'url': 'https://www.nytimes.com/2019/04/24/world/asia/sri-lanka-bombers-millionaire.html', 'urlToImage': 'https://static01.nyt.com/images/2019/04/24/world/24millionaire/24millionaire-facebookJumbo.jpg', 'publishedAt': '2019-04-24T22:27:20Z', 'content': 'Many lawmakers dismissed assertions that the president would not have known about the threat memo, saying that blame for the security lapse should go all the way to the top.\\r\\nSarath Fonseka, a member of Parliament who was an army chief in the last stage of Sr… [+1309 chars]'}, {'source': {'id': 'the-new-york-times', 'name': 'The New York Times'}, 'author': 'JEFFREY GETTLEMAN and KAI SCHULTZ', 'title': 'On a Day of Mourning in Sri Lanka, Religious Tension Builds', 'description': 'Amid mass burials for the more than 300 victims of Sunday’s suicide attacks in Sri Lanka, grief began to harden into anger.', 'url': 'https://www.nytimes.com/2019/04/23/world/asia/sri-lanka-attack-burials.html', 'urlToImage': 'https://static01.nyt.com/images/2019/04/23/world/23srilanka-briefing5-promo/23srilanka-briefing5-promo-facebookJumbo-v4.jpg', 'publishedAt': '2019-04-23T19:04:36Z', 'content': 'All morning, the family had been getting ready at home.\\r\\nMs. Fernandos daughters cooked a plate of salt fish curry, rice and pumpkin, placing it on a carpet near a small shrine with their mothers photograph. As an alm, we offer food, one daughter explained.\\r\\n… [+1266 chars]'}, {'source': {'id': 'the-new-york-times', 'name': 'The New York Times'}, 'author': 'JENNIFER STEINHAUER', 'title': 'V.A. Officials, and the Nation, Battle an Unrelenting Tide of Veteran Suicides', 'description': 'High rates of homelessness, traumatic brain injuries, post-traumatic stress and a military culture that can be resistant to seeking help are all aggravating factors for veterans.', 'url': 'https://www.nytimes.com/2019/04/14/us/politics/veterans-suicide.html', 'urlToImage': 'https://static01.nyt.com/images/2019/04/12/us/politics/14dc-vets1/00dc-vets1-facebookJumbo.jpg', 'publishedAt': '2019-04-14T14:46:57Z', 'content': 'The vast majority of veterans that die by suicide are not seeking services, said Julie Cerel, a professor at the University of Kentucky and president of the American Association of Suicidology. So the V.A.s are kind of at a loss of how to serve this group of … [+2064 chars]'}, {'source': {'id': 'the-new-york-times', 'name': 'The New York Times'}, 'author': 'DAVID ZUCCHINO', 'title': 'U.S. and Afghan Forces Are Killing More Civilians Than Insurgents Do, U.N. Says', 'description': 'Afghan civilian deaths attributed to pro-government forces rose in the first quarter of this year, even as overall civilian casualties dropped, according to the U.N.', 'url': 'https://www.nytimes.com/2019/04/24/world/asia/afghanistan-civilian-casualties-united-nations.html', 'urlToImage': 'https://static01.nyt.com/images/2019/04/24/world/24afghanistan-casualties-1/24afghanistan-casualties-1-facebookJumbo.jpg', 'publishedAt': '2019-04-24T06:38:37Z', 'content': 'A shocking number of civilians continue to be killed and maimed each day, Tadamichi Yamamoto, the United Nations secretary generals special representative for Afghanistan, said in a statement. All parties must do more to safeguard civilians.\\r\\nThe United Natio… [+1393 chars]'}, {'source': {'id': 'the-new-york-times', 'name': 'The New York Times'}, 'author': 'JULIET MACUR', 'title': 'Olympic Cyclist Kelly Catlin Seemed Destined for Glory. Why Did She Kill Herself?', 'description': 'Colin Catlin, sifted through the belongings retrieved from Kelly’s graduate student apartment at Stanford, hoping for clues explaining why she took her life last month at age 23.', 'url': 'https://www.nytimes.com/2019/04/08/sports/kelly-catlin-suicide-cycling.html', 'urlToImage': 'https://static01.nyt.com/images/2019/04/08/sports/08catlin-print/merlin_152658954_a217dd28-0ba1-4390-bb01-f80362169a1e-facebookJumbo.jpg', 'publishedAt': '2019-04-08T20:37:41Z', 'content': 'There was this profound apathy, her father said. She didnt care about winning medals anymore.\\r\\nLife at Stanford was much different than she was used to. She moved into a dorm there after living with her brother at the University of Minnesota while finishing h… [+1889 chars]'}, {'source': {'id': 'the-new-york-times', 'name': 'The New York Times'}, 'author': 'THE NEW YORK TIMES', 'title': 'Sri Lanka Photos: Grief and Questions Amid the Carnage', 'description': 'St Anthony’s Shrine in Colombo, Sri Lanka, on Monday, the day after an explosion killed multiple people there.', 'url': 'https://www.nytimes.com/2019/04/22/world/asia/sri-lanka-photos.html', 'urlToImage': 'https://static01.nyt.com/images/2019/04/22/world/22srilanka-photos-15/22srilanka-photos-15-facebookJumbo.jpg', 'publishedAt': '2019-04-22T06:22:10Z', 'content': 'Police officials in Sri Lanka said the attacks had been coordinated by a single group, though they did not identify it. The Colombo attacks were said to have been carried out by suicide bombers.\\r\\nAmong the nearly 300 killed and hundreds more wounded, the auth… [+184 chars]'}, {'source': {'id': 'the-new-york-times', 'name': 'The New York Times'}, 'author': 'BRYANT ROUSSEAU', 'title': 'What We Know and Don’t Know About the Sri Lanka Attacks', 'description': 'More information about who planned the attacks and who was killed was released by the authorities on Monday, but essential questions remain unanswered.', 'url': 'https://www.nytimes.com/2019/04/22/world/asia/sri-lanka-attacks-updates.html', 'urlToImage': 'https://static01.nyt.com/images/2019/04/22/world/22srilanka-whatweknow/22srilanka-whatweknow-facebookJumbo.jpg', 'publishedAt': '2019-04-23T00:00:05Z', 'content': 'One of the suicide bombers was arrested a few months ago on suspicion of having vandalized a statue of Buddha, a highly provocative act in Sri Lanka, a Buddhist-majority island nation in the Indian Ocean.\\r\\n In Washington, intelligence and counterterrorism ana… [+1252 chars]'}]}\n"
     ]
    }
   ],
   "source": [
    "print(response.json())"
   ]
  },
  {
   "cell_type": "code",
   "execution_count": 139,
   "metadata": {},
   "outputs": [],
   "source": [
    "api_news = response.json()"
   ]
  },
  {
   "cell_type": "code",
   "execution_count": 122,
   "metadata": {},
   "outputs": [
    {
     "data": {
      "text/plain": [
       "{'status': 'ok',\n",
       " 'totalResults': 16272,\n",
       " 'articles': [{'source': {'id': 'mashable', 'name': 'Mashable'},\n",
       "   'author': \"Danica D'Souza\",\n",
       "   'title': '‘13 Reasons Why’ led to more youth suicides, new study suggests',\n",
       "   'description': 'The youth suicide rate increased significantly in the months after the Netflix series “13 Reasons Why” first debuted. Experts had previously warned about how adolescents and teens could be vulnerable and more prone toward suicidal behavior after watching the …',\n",
       "   'url': 'https://mashable.com/video/13-reasons-why-increase-in-youth-suicide-study/',\n",
       "   'urlToImage': 'https://mondrian.mashable.com/2019%252F05%252F01%252F76%252Fa53c96aa46c94b8b946d632d56cec40f.7f8c7.jpg%252F1200x630.jpg?signature=BPAAPQVNPrDb4rcFv0IL74lzHx8=',\n",
       "   'publishedAt': '2019-05-01T20:43:30Z',\n",
       "   'content': None},\n",
       "  {'source': {'id': None, 'name': 'Gizmodo.com'},\n",
       "   'author': 'Melanie Ehrenkranz',\n",
       "   'title': 'Netflix Responds to Data Connecting 13 Reasons Why With Rise In Teen Suicides',\n",
       "   'description': '13 Reasons Why, a Netflix show exploring why its protagonist died by suicide, has sparked debate among the research community as to whether it contributed to an uptick in suicide rates. Netflix CEO Reed Hastings responded to this indictment after the first se…',\n",
       "   'url': 'https://gizmodo.com/netflix-responds-to-data-connecting-13-reasons-why-with-1834428024',\n",
       "   'urlToImage': 'https://i.kinja-img.com/gawker-media/image/upload/s--gXmNv3da--/c_fill,fl_progressive,g_center,h_900,q_80,w_1600/hetcsiyr4yjxsllkd8fd.jpg',\n",
       "   'publishedAt': '2019-04-30T22:15:00Z',\n",
       "   'content': '13 Reasons Why, a Netflix show exploring why its protagonist died by suicide, has sparked debate among the research community as to whether it contributed to an uptick in suicide rates. Netflix CEO Reed Hastings responded to this indictment after the first se… [+2128 chars]'},\n",
       "  {'source': {'id': 'mashable', 'name': 'Mashable'},\n",
       "   'author': 'Rebecca Ruiz',\n",
       "   'title': \"Experts warned '13 Reasons Why' could lead to suicides. A new study suggests they were right.\",\n",
       "   'description': \"When the Netflix series 13 Reasons Why debuted in 2017, suicide prevention experts worried that the show's graphic depiction of suicide might make some vulnerable viewers more prone to increased suicidal thinking and behavior. A new study of the suicide rate …\",\n",
       "   'url': 'https://mashable.com/article/13-reasons-why-suicide-rate-increase-study/',\n",
       "   'urlToImage': 'https://mondrian.mashable.com/2019%252F04%252F30%252Fd4%252Fe7ea866c091740ebb4259367fd548b7e.fc6f2.png%252F1200x630.png?signature=_HiAwcqJZCT_cYpaI8Y2Dg_2YUQ=',\n",
       "   'publishedAt': '2019-04-30T23:40:00Z',\n",
       "   'content': \"When the Netflix series 13 Reasons Why debuted in 2017, suicide prevention experts worried that the show's graphic depiction of suicide might make some vulnerable viewers more prone to increased suicidal thinking and behavior.\\xa0\\r\\nA new study of the suicide rat… [+5232 chars]\"},\n",
       "  {'source': {'id': 'the-new-york-times', 'name': 'The New York Times'},\n",
       "   'author': 'AMY BARNHORST',\n",
       "   'title': 'The Empty Promise of Suicide Prevention',\n",
       "   'description': 'Many of the problems that lead people to kill themselves cannot be fixed with a little extra serotonin.',\n",
       "   'url': 'https://www.nytimes.com/2019/04/26/opinion/sunday/suicide-prevention.html',\n",
       "   'urlToImage': 'https://static01.nyt.com/images/2019/04/28/opinion/sunday/28barnhorst/28barnhorst-facebookJumbo.jpg',\n",
       "   'publishedAt': '2019-04-27T01:38:53Z',\n",
       "   'content': 'I asked the resident how he planned to help her while she was in the hospital. After a pause, he suggested meekly, Start her on an antidepressant?\\r\\nI could tell he knew how ridiculous it sounded.\\r\\nAs doctors, we want to help people, and it can be hard for us … [+1977 chars]'},\n",
       "  {'source': {'id': 'bbc-news', 'name': 'BBC News'},\n",
       "   'author': 'https://www.facebook.com/bbcnews',\n",
       "   'title': 'Afghanistan conflict: Taliban attack northern police headquarters',\n",
       "   'description': 'A suicide bomber and militants target a compound in the northern city of Pul-e-Khumri.',\n",
       "   'url': 'https://www.bbc.co.uk/news/world-asia-48169104',\n",
       "   'urlToImage': 'https://ichef.bbci.co.uk/news/1024/branded_news/24D6/production/_106803490_mediaitem106803489.jpg',\n",
       "   'publishedAt': '2019-05-05T12:13:25Z',\n",
       "   'content': 'Image copyrightReutersImage caption\\r\\n The attack began with a suicide bombing\\r\\nTaliban fighters have attacked the police headquarters in the northern Afghan city of Pul-e-Khumri.\\r\\nA suicide bomber started the assault, and more attackers then opened fire. Furt… [+564 chars]'},\n",
       "  {'source': {'id': 'the-new-york-times', 'name': 'The New York Times'},\n",
       "   'author': 'JEFFREY GETTLEMAN, DHARISHA BASTIANS and KAI SCHULTZ',\n",
       "   'title': 'Suicide Bombers Included Two Sons of Sri Lanka Spice Tycoon',\n",
       "   'description': 'The aura of success surrounding Mohammad Yusuf Ibrahim, head of a Sri Lanka spice empire, crashed on news that two of his sons were Easter Sunday bombers.',\n",
       "   'url': 'https://www.nytimes.com/2019/04/24/world/asia/sri-lanka-bombers-millionaire.html',\n",
       "   'urlToImage': 'https://static01.nyt.com/images/2019/04/24/world/24millionaire/24millionaire-facebookJumbo.jpg',\n",
       "   'publishedAt': '2019-04-24T22:27:20Z',\n",
       "   'content': 'Many lawmakers dismissed assertions that the president would not have known about the threat memo, saying that blame for the security lapse should go all the way to the top.\\r\\nSarath Fonseka, a member of Parliament who was an army chief in the last stage of Sr… [+1309 chars]'},\n",
       "  {'source': {'id': 'the-new-york-times', 'name': 'The New York Times'},\n",
       "   'author': 'JEFFREY GETTLEMAN and KAI SCHULTZ',\n",
       "   'title': 'On a Day of Mourning in Sri Lanka, Religious Tension Builds',\n",
       "   'description': 'Amid mass burials for the more than 300 victims of Sunday’s suicide attacks in Sri Lanka, grief began to harden into anger.',\n",
       "   'url': 'https://www.nytimes.com/2019/04/23/world/asia/sri-lanka-attack-burials.html',\n",
       "   'urlToImage': 'https://static01.nyt.com/images/2019/04/23/world/23srilanka-briefing5-promo/23srilanka-briefing5-promo-facebookJumbo-v4.jpg',\n",
       "   'publishedAt': '2019-04-23T19:04:36Z',\n",
       "   'content': 'All morning, the family had been getting ready at home.\\r\\nMs. Fernandos daughters cooked a plate of salt fish curry, rice and pumpkin, placing it on a carpet near a small shrine with their mothers photograph. As an alm, we offer food, one daughter explained.\\r\\n… [+1266 chars]'},\n",
       "  {'source': {'id': 'bbc-news', 'name': 'BBC News'},\n",
       "   'author': 'https://www.facebook.com/bbcnews',\n",
       "   'title': \"Sri Lanka attacks: 'International network' linked to deadly bombings\",\n",
       "   'description': 'Suicide bomb attacks on churches and hotels on Easter Sunday left 290 dead and hundreds injured.',\n",
       "   'url': 'https://www.bbc.co.uk/news/world-asia-48012085',\n",
       "   'urlToImage': 'https://ichef.bbci.co.uk/images/ic/1024x576/p0773lcw.jpg',\n",
       "   'publishedAt': '2019-04-22T09:57:40Z',\n",
       "   'content': 'Media captionAftermath of deadly Sri Lanka explosions\\r\\nA wave of bombings that killed 290 people in Sri Lanka on Sunday was carried out with the support of an international network, officials say.\\r\\nThe government blamed a previously unknown local jihadist gro… [+5110 chars]'},\n",
       "  {'source': {'id': 'the-new-york-times', 'name': 'The New York Times'},\n",
       "   'author': 'THE NEW YORK TIMES',\n",
       "   'title': 'Live Briefing: Sri Lanka Bombings Live Updates: Police Arrest 24 as Death Toll Nears 300',\n",
       "   'description': 'The death toll in Sri Lanka rose significantly on Monday to 290, after a series of suicide bombings at churches and hotels on Easter Sunday.',\n",
       "   'url': 'https://www.nytimes.com/2019/04/22/world/asia/sri-lanka-bombing-explosion.html',\n",
       "   'urlToImage': 'https://static01.nyt.com/images/2019/04/22/world/22srilankabriefing-1sub/22srilankabriefing-1sub-facebookJumbo.jpg',\n",
       "   'publishedAt': '2019-04-22T04:07:57Z',\n",
       "   'content': 'The Sri Lankan police have arrested 24 people in connection with a series of devastating suicide bombings at hotels and churches on Easter Sunday that left nearly 300 people dead and more than 500 injured.\\r\\n No one has claimed responsibility for the attacks, … [+626 chars]'},\n",
       "  {'source': {'id': 'the-new-york-times', 'name': 'The New York Times'},\n",
       "   'author': 'DAVID MONTGOMERY',\n",
       "   'title': 'Sandra Bland, It Turns Out, Filmed Traffic Stop Confrontation Herself',\n",
       "   'description': 'A newly obtained cellphone video shows Ms. Bland’s own view of the Texas traffic stop that preceded her death of an apparent suicide in jail.',\n",
       "   'url': 'https://www.nytimes.com/2019/05/07/us/sandra-bland-video-brian-encinia.html',\n",
       "   'urlToImage': 'https://static01.nyt.com/images/2019/05/07/us/07bland-promo/07bland-promo-facebookJumbo.jpg',\n",
       "   'publishedAt': '2019-05-07T14:57:17Z',\n",
       "   'content': 'After the trooper told her to get off the phone, Ms. Bland responded: Im not on the phone. I have a right to record. This is my property.\\r\\nPut your phone down, Mr. Encinia repeated. Put your phone down right now.\\r\\nThe video was released by WFAA in partnership… [+1393 chars]'},\n",
       "  {'source': {'id': 'the-new-york-times', 'name': 'The New York Times'},\n",
       "   'author': 'DAVID MONTGOMERY',\n",
       "   'title': 'Sandra Bland, It Turns Out, Filmed Traffic Stop Confrontation Herself',\n",
       "   'description': 'A newly obtained cellphone video shows Ms. Bland’s own view of the Texas traffic stop that preceded her death of an apparent suicide in jail.',\n",
       "   'url': 'https://www.nytimes.com/2019/05/07/us/sandra-bland-texas-video.html',\n",
       "   'urlToImage': 'https://static01.nyt.com/images/2019/05/07/us/07bland1/07bland1-facebookJumbo.jpg',\n",
       "   'publishedAt': '2019-05-07T11:59:53Z',\n",
       "   'content': 'Ms. Blands death in a largely rural part of southeast Texas unified African-American leaders throughout the state, leading to the enactment of the Sandra Bland Act in 2017, which requires training in de-escalation techniques for all police officers, sets up p… [+1579 chars]'},\n",
       "  {'source': {'id': 'cnn', 'name': 'CNN'},\n",
       "   'author': None,\n",
       "   'title': '3 vets died by suicide at VA facilities',\n",
       "   'description': \"The House announces a bipartisan effort to curb the growing crisis of active duty military and veteran suicide. CNN's Barbara Starr reports.\",\n",
       "   'url': 'https://www.cnn.com/videos/us/2019/04/30/bipartisan-effort-to-curb-active-military-veteran-suicides-starr-dnt-lead-vpx.cnn',\n",
       "   'urlToImage': 'https://cdn.cnn.com/cnnnext/dam/assets/190430175959-military-super-tease.jpg',\n",
       "   'publishedAt': '2019-04-30T22:27:46Z',\n",
       "   'content': \"Chat with us in Facebook Messenger. Find out what's happening in the world as it unfolds.\"},\n",
       "  {'source': {'id': 'the-new-york-times', 'name': 'The New York Times'},\n",
       "   'author': 'MOTOKO RICH',\n",
       "   'title': 'U.S. Navy Sailor and Japanese Woman Are Found Dead in Okinawa',\n",
       "   'description': 'Police officers at an apartment on the Japanese island of Okinawa where a United States Navy sailor and a Japanese woman were found dead on Saturday. The case is being investigated as a murder-suicide.',\n",
       "   'url': 'https://www.nytimes.com/2019/04/14/world/asia/japan-okinawa-navy-sailor-dead.html',\n",
       "   'urlToImage': 'https://static01.nyt.com/images/2019/04/14/world/14japan/merlin_153492447_196e9421-3b56-48a5-ba19-a92ce67f1be1-facebookJumbo.jpg',\n",
       "   'publishedAt': '2019-04-14T04:46:52Z',\n",
       "   'content': 'Takeo Akiba, the vice minister of foreign affairs, protested to William F. Hagerty, the United States ambassador to Japan, in a phone call on Saturday, said Takeshi Osuga, a spokesman for the Foreign Ministry.\\r\\nMr. Akiba described the deaths as extremely regr… [+1031 chars]'},\n",
       "  {'source': {'id': 'the-new-york-times', 'name': 'The New York Times'},\n",
       "   'author': 'THE NEW YORK TIMES',\n",
       "   'title': 'What We Know and Don’t Know About the Sri Lanka Attacks',\n",
       "   'description': 'The investigation into a deadly series of suicide bombings in Sri Lanka entered a fourth day on Wednesday. While new information continues to emerge about the bombings, some basic questions remain unanswered.',\n",
       "   'url': 'https://www.nytimes.com/2019/04/24/world/asia/sri-lanka-attacks-news.html',\n",
       "   'urlToImage': 'https://static01.nyt.com/images/2019/04/24/world/24srilanka-whatweknow-1/24srilanka-whatweknow-1-facebookJumbo.jpg',\n",
       "   'publishedAt': '2019-04-24T07:23:56Z',\n",
       "   'content': 'At least 28 people were killed at the Zion Church in Batticaloa, on the other side of the island on its eastern coast. St. Anthonys Shrine, a Roman Catholic church in Colombo, was also attacked, with an unknown number of dead. Witnesses described a river of b… [+1073 chars]'},\n",
       "  {'source': {'id': 'the-new-york-times', 'name': 'The New York Times'},\n",
       "   'author': 'JENNIFER STEINHAUER',\n",
       "   'title': 'V.A. Officials, and the Nation, Battle an Unrelenting Tide of Veteran Suicides',\n",
       "   'description': 'High rates of homelessness, traumatic brain injuries, post-traumatic stress and a military culture that can be resistant to seeking help are all aggravating factors for veterans.',\n",
       "   'url': 'https://www.nytimes.com/2019/04/14/us/politics/veterans-suicide.html',\n",
       "   'urlToImage': 'https://static01.nyt.com/images/2019/04/12/us/politics/14dc-vets1/00dc-vets1-facebookJumbo.jpg',\n",
       "   'publishedAt': '2019-04-14T14:46:57Z',\n",
       "   'content': 'The vast majority of veterans that die by suicide are not seeking services, said Julie Cerel, a professor at the University of Kentucky and president of the American Association of Suicidology. So the V.A.s are kind of at a loss of how to serve this group of … [+2064 chars]'},\n",
       "  {'source': {'id': 'cnn', 'name': 'CNN'},\n",
       "   'author': None,\n",
       "   'title': \"CNN goes inside St. Anthony's Church after terror attack\",\n",
       "   'description': \"CNN's Will Ripley is led through charred and debris-filled Saint Anthony's Church, which became the scene of a terrorist attack after a suicide bomber detonated himself on Easter Sunday in Sri Lanka.\",\n",
       "   'url': 'https://www.cnn.com/videos/world/2019/04/26/st-anthonys-church-aftermath-colombo-sri-lanka-terrorist-attack-ripley-pkg-vpx.cnn',\n",
       "   'urlToImage': 'https://cdn.cnn.com/cnnnext/dam/assets/190426185032-ripley-st-anthonys-church-super-tease.jpg',\n",
       "   'publishedAt': '2019-04-26T23:50:13Z',\n",
       "   'content': \"Chat with us in Facebook Messenger. Find out what's happening in the world as it unfolds.\"},\n",
       "  {'source': {'id': 'the-new-york-times', 'name': 'The New York Times'},\n",
       "   'author': 'DAVID ZUCCHINO',\n",
       "   'title': 'U.S. and Afghan Forces Are Killing More Civilians Than Insurgents Do, U.N. Says',\n",
       "   'description': 'Afghan civilian deaths attributed to pro-government forces rose in the first quarter of this year, even as overall civilian casualties dropped, according to the U.N.',\n",
       "   'url': 'https://www.nytimes.com/2019/04/24/world/asia/afghanistan-civilian-casualties-united-nations.html',\n",
       "   'urlToImage': 'https://static01.nyt.com/images/2019/04/24/world/24afghanistan-casualties-1/24afghanistan-casualties-1-facebookJumbo.jpg',\n",
       "   'publishedAt': '2019-04-24T06:38:37Z',\n",
       "   'content': 'A shocking number of civilians continue to be killed and maimed each day, Tadamichi Yamamoto, the United Nations secretary generals special representative for Afghanistan, said in a statement. All parties must do more to safeguard civilians.\\r\\nThe United Natio… [+1393 chars]'},\n",
       "  {'source': {'id': None, 'name': 'Gizmodo.com'},\n",
       "   'author': 'Melanie Ehrenkranz',\n",
       "   'title': 'Telecom Giant Orange on Trial in France After 19 Employees Died by Suicide',\n",
       "   'description': 'Orange, a French telecom giant, is being sued for moral harassment, among other charges, after 19 employees died by suicide and another 12 attempted to kill themselves over a three-year span. Over 100 people have claimed work culture at the company, contribut…',\n",
       "   'url': 'https://gizmodo.com/telecom-giant-orange-on-trial-in-france-after-19-employ-1834564469',\n",
       "   'urlToImage': 'https://i.kinja-img.com/gawker-media/image/upload/s--RQVMsBPo--/c_fill,fl_progressive,g_center,h_900,q_80,w_1600/vdxuk7kxkwloixadjdrs.jpg',\n",
       "   'publishedAt': '2019-05-06T22:25:00Z',\n",
       "   'content': 'Orange, a French telecom giant, is being sued for moral harassment, among other charges, after 19 employees died by suicide and another 12 attempted to kill themselves over a three-year span. Over 100 people have claimed work culture at the company, contribut… [+2837 chars]'},\n",
       "  {'source': {'id': 'the-new-york-times', 'name': 'The New York Times'},\n",
       "   'author': 'JULIET MACUR',\n",
       "   'title': 'Olympic Cyclist Kelly Catlin Seemed Destined for Glory. Why Did She Kill Herself?',\n",
       "   'description': 'Colin Catlin, sifted through the belongings retrieved from Kelly’s graduate student apartment at Stanford, hoping for clues explaining why she took her life last month at age 23.',\n",
       "   'url': 'https://www.nytimes.com/2019/04/08/sports/kelly-catlin-suicide-cycling.html',\n",
       "   'urlToImage': 'https://static01.nyt.com/images/2019/04/08/sports/08catlin-print/merlin_152658954_a217dd28-0ba1-4390-bb01-f80362169a1e-facebookJumbo.jpg',\n",
       "   'publishedAt': '2019-04-08T20:37:41Z',\n",
       "   'content': 'There was this profound apathy, her father said. She didnt care about winning medals anymore.\\r\\nLife at Stanford was much different than she was used to. She moved into a dorm there after living with her brother at the University of Minnesota while finishing h… [+1889 chars]'},\n",
       "  {'source': {'id': None, 'name': 'Npr.org'},\n",
       "   'author': 'Rhitu Chatterjee',\n",
       "   'title': 'Reach Out: Ways To Help A Loved One At Risk Of Suicide',\n",
       "   'description': 'What can you do when you fear someone you know may be considering suicide? It can feel daunting, but suicide prevention experts say we all can help someone at risk by reaching out and showing we care.',\n",
       "   'url': 'https://www.npr.org/sections/health-shots/2019/04/20/707686101/reach-out-ways-to-help-a-loved-one-at-risk-of-suicide',\n",
       "   'urlToImage': 'https://media.npr.org/assets/img/2019/04/19/ways-to-help-suicide_wide-82dd5198f71dc6f92a4adf84928322ed1a7b4ed0.jpg?s=1400',\n",
       "   'publishedAt': '2019-04-20T14:00:18Z',\n",
       "   'content': 'If you know someone struggling with despair, depression or thoughts of suicide, you may be wondering how to help. \\r\\nMost Americans say they understand that suicide is preventable and they would act to help someone they know who is at risk, according to a nati… [+13400 chars]'}]}"
      ]
     },
     "execution_count": 122,
     "metadata": {},
     "output_type": "execute_result"
    }
   ],
   "source": [
    "api_news"
   ]
  },
  {
   "cell_type": "code",
   "execution_count": 140,
   "metadata": {},
   "outputs": [
    {
     "data": {
      "text/plain": [
       "dict"
      ]
     },
     "execution_count": 140,
     "metadata": {},
     "output_type": "execute_result"
    }
   ],
   "source": [
    "type(api_news)"
   ]
  },
  {
   "cell_type": "code",
   "execution_count": 141,
   "metadata": {},
   "outputs": [
    {
     "data": {
      "text/plain": [
       "dict_keys(['status', 'totalResults', 'articles'])"
      ]
     },
     "execution_count": 141,
     "metadata": {},
     "output_type": "execute_result"
    }
   ],
   "source": [
    "api_news.keys()"
   ]
  },
  {
   "cell_type": "code",
   "execution_count": 142,
   "metadata": {},
   "outputs": [
    {
     "data": {
      "text/plain": [
       "[{'source': {'id': None, 'name': 'Lifehacker.com'},\n",
       "  'author': 'Emily Price',\n",
       "  'title': 'How to Help the Victims of the Sri Lanka Bombings',\n",
       "  'description': 'Nine bombings occurred in Sri Lanka on Easter Sunday, killing 290 people and injuring more than 500, including several U.S. citizens. Read more...',\n",
       "  'url': 'https://lifehacker.com/how-to-help-the-victims-of-the-sri-lanka-bombings-1834217046',\n",
       "  'urlToImage': 'https://i.kinja-img.com/gawker-media/image/upload/s--RcHtRhxd--/c_fill,fl_progressive,g_center,h_900,q_80,w_1600/adgev2ivw8enmax7h1s2.jpg',\n",
       "  'publishedAt': '2019-04-22T18:10:00Z',\n",
       "  'content': 'Nine bombings occurred in Sri Lanka on Easter Sunday, killing 290 people and injuring more than 500, including several U.S. citizens.\\r\\nThe bombings occurred in churches in Negomonbo, Batticaloa, and Colombo around 8:45am on Sunday. Bombings also occurred at a… [+2030 chars]'},\n",
       " {'source': {'id': None, 'name': 'Lifehacker.com'},\n",
       "  'author': 'Meghan Moravcik Walbert',\n",
       "  'title': 'How to Find a LGBTQ-Affirming Therapist',\n",
       "  'description': 'Finding the right therapist—someone you trust, someone you like, someone you click with—is important for anyone to ensure their therapy is effective. But for those who identify as LGBTQ, finding a therapist who is LGBTQ or LGBTQ-affirming is critical for crea…',\n",
       "  'url': 'https://lifehacker.com/how-to-find-a-lgbtq-affirming-therapist-1834383647',\n",
       "  'urlToImage': 'https://i.kinja-img.com/gawker-media/image/upload/s--clLlgoHf--/c_fill,fl_progressive,g_center,h_900,q_80,w_1600/pt45pritbz0ho4m5qpzd.jpg',\n",
       "  'publishedAt': '2019-04-30T17:00:00Z',\n",
       "  'content': 'Finding the right therapistsomeone you trust, someone you like, someone you click withis important for anyone to ensure their therapy is effective. But for those who identify as LGBTQ, finding a therapist who is LGBTQ or LGBTQ-affirming is critical for creati… [+3443 chars]'},\n",
       " {'source': {'id': 'engadget', 'name': 'Engadget'},\n",
       "  'author': 'Christine Fisher',\n",
       "  'title': 'Sri Lanka lifts social media ban nine days after terrorist bombings',\n",
       "  'description': \"Sri Lanka's president ordered an end to the country's temporary ban on social media. The ban was instituted after devastating suicide bombings on Easter Sunday left more than 250 people dead. According to the New York Times, the government issued a statement …\",\n",
       "  'url': 'https://www.engadget.com/2019/04/30/sri-lanka-social-media-ban-lifted/',\n",
       "  'urlToImage': 'https://o.aolcdn.com/images/dims?thumbnail=1200%2C630&quality=80&image_uri=https%3A%2F%2Fo.aolcdn.com%2Fimages%2Fdims%3Fcrop%3D3348%252C2483%252C0%252C0%26quality%3D85%26format%3Djpg%26resize%3D1600%252C1187%26image_uri%3Dhttps%253A%252F%252Fs.yimg.com%252Fos%252Fcreatr-images%252F2019-04%252F3d5b9f80-6b19-11e9-af7f-388ee47d515a%26client%3Da1acac3e1b3290917d92%26signature%3Dafa305c2da474a173219ab0f547c70051aa4d43d&client=amp-blogside-v2&signature=e8bf2f19c344bf3fabe0743e7e059c418fdecfaa',\n",
       "  'publishedAt': '2019-04-30T15:46:00Z',\n",
       "  'content': \"Facebook, Instagram, WhatsApp and Viber were reportedly among the platforms blocked. Nine days later, it's unclear if the restrictions helped curb violence or limit the spread of misinformation. Sri Lanka isn't the only country to block social media in an att… [+240 chars]\"},\n",
       " {'source': {'id': 'wired', 'name': 'Wired'},\n",
       "  'author': 'Louise Matsakis',\n",
       "  'title': 'Facebook Rolls Out More Features for Dead People',\n",
       "  'description': 'When you die, Facebook wants your profile to become a place for grieving friends and family to gather online.',\n",
       "  'url': 'https://www.wired.com/story/facebook-rolls-out-more-features-dead-people/',\n",
       "  'urlToImage': 'https://media.wired.com/photos/5cab9a53d709eb270e2ae3b7/191:100/pass/tombstones-173243050.jpg',\n",
       "  'publishedAt': '2019-04-09T13:00:00Z',\n",
       "  'content': 'Facebook was designed for the living, but as the social network grew older, it also needed to decide what should happen when users die. In 2015, Facebook began allowing people to assign a legacy contact to be in charge of their account in the event they pass … [+4867 chars]'},\n",
       " {'source': {'id': 'techcrunch', 'name': 'TechCrunch'},\n",
       "  'author': 'Jordan Crook',\n",
       "  'title': 'Small Door raises $3.5 million in seed funding to rethink veterinary care',\n",
       "  'description': 'Millennials are opting out of marriage and kids and instead opting for pet ownership, opening the door for pet-centric businesses to grow. Small Door is one such company. The startup has raised $3.5 million in seed funding to rethink veterinary services from …',\n",
       "  'url': 'http://techcrunch.com/2019/04/30/small-door-raises-3-5-million-in-seed-funding-to-rethink-veterinary-care/',\n",
       "  'urlToImage': 'https://techcrunch.com/wp-content/uploads/2019/04/SD-waiting-009.jpg?w=556',\n",
       "  'publishedAt': '2019-04-30T15:30:26Z',\n",
       "  'content': 'Millennials are opting out of marriage and kids and instead opting for pet ownership, opening the door for pet-centric businesses to grow.\\r\\nSmall Door is one such company. The startup has raised $3.5 million in seed funding to rethink veterinary services from… [+1299 chars]'},\n",
       " {'source': {'id': 'techcrunch', 'name': 'TechCrunch'},\n",
       "  'author': 'Natasha Lomas',\n",
       "  'title': 'UK sets out safety-focused plan to regulate Internet firms',\n",
       "  'description': 'The UK government has laid out proposals to regulate online and social media platforms, setting out the substance of its long-awaited White Paper on online harms today — and kicking off a public consultation. The Online Harms White Paper is a joint proposal f…',\n",
       "  'url': 'http://techcrunch.com/2019/04/08/uk-sets-out-safety-focused-plan-to-regulate-internet-firms/',\n",
       "  'urlToImage': 'https://techcrunch.com/wp-content/uploads/2018/12/GettyImages-819770758.jpg?w=619',\n",
       "  'publishedAt': '2019-04-08T10:45:25Z',\n",
       "  'content': 'The UK government has laid out proposals to regulate online and social media platforms, setting out the substance of its long-awaited White Paper on online harms today — and kicking off a public consultation.\\r\\nThe OnlineHarms White Paper is a joint proposal f… [+13635 chars]'},\n",
       " {'source': {'id': None, 'name': 'Gizmodo.com'},\n",
       "  'author': 'Melanie Ehrenkranz',\n",
       "  'title': 'Netflix Responds to Data Connecting 13 Reasons Why With Rise In Teen Suicides',\n",
       "  'description': '13 Reasons Why, a Netflix show exploring why its protagonist died by suicide, has sparked debate among the research community as to whether it contributed to an uptick in suicide rates. Netflix CEO Reed Hastings responded to this indictment after the first se…',\n",
       "  'url': 'https://gizmodo.com/netflix-responds-to-data-connecting-13-reasons-why-with-1834428024',\n",
       "  'urlToImage': 'https://i.kinja-img.com/gawker-media/image/upload/s--gXmNv3da--/c_fill,fl_progressive,g_center,h_900,q_80,w_1600/hetcsiyr4yjxsllkd8fd.jpg',\n",
       "  'publishedAt': '2019-04-30T22:15:00Z',\n",
       "  'content': '13 Reasons Why, a Netflix show exploring why its protagonist died by suicide, has sparked debate among the research community as to whether it contributed to an uptick in suicide rates. Netflix CEO Reed Hastings responded to this indictment after the first se… [+2128 chars]'},\n",
       " {'source': {'id': None, 'name': 'Gizmodo.com'},\n",
       "  'author': 'Melanie Ehrenkranz',\n",
       "  'title': 'Telecom Giant Orange on Trial in France After 19 Employees Died by Suicide',\n",
       "  'description': 'Orange, a French telecom giant, is being sued for moral harassment, among other charges, after 19 employees died by suicide and another 12 attempted to kill themselves over a three-year span. Over 100 people have claimed work culture at the company, contribut…',\n",
       "  'url': 'https://gizmodo.com/telecom-giant-orange-on-trial-in-france-after-19-employ-1834564469',\n",
       "  'urlToImage': 'https://i.kinja-img.com/gawker-media/image/upload/s--RQVMsBPo--/c_fill,fl_progressive,g_center,h_900,q_80,w_1600/vdxuk7kxkwloixadjdrs.jpg',\n",
       "  'publishedAt': '2019-05-06T22:25:00Z',\n",
       "  'content': 'Orange, a French telecom giant, is being sued for moral harassment, among other charges, after 19 employees died by suicide and another 12 attempted to kill themselves over a three-year span. Over 100 people have claimed work culture at the company, contribut… [+2837 chars]'},\n",
       " {'source': {'id': None, 'name': 'Gizmodo.com'},\n",
       "  'author': 'Ed Cara',\n",
       "  'title': 'News About Tragedies Makes Us Miserable—and Hungry for More, Study Finds',\n",
       "  'description': 'A new study out Wednesday might just reaffirm your worst fears about staying glued to Twitter or cable news during a mass tragedy like the latest school shooting. It suggests that getting exposed to media coverage of these events can create a vicious emotiona…',\n",
       "  'url': 'https://gizmodo.com/news-about-tragedies-makes-us-miserable-and-hungry-for-1834121287',\n",
       "  'urlToImage': 'https://i.kinja-img.com/gawker-media/image/upload/s--cZboYtpS--/c_fill,fl_progressive,g_center,h_900,q_80,w_1600/uhyy9wi9e2opu0l6ejug.jpg',\n",
       "  'publishedAt': '2019-04-17T21:25:00Z',\n",
       "  'content': 'A new study out Wednesday might just reaffirm your worst fears about staying glued to Twitter or cable news during a mass tragedy like the latest school shooting. It suggests that getting exposed to media coverage of these events can create a vicious emotiona… [+4146 chars]'},\n",
       " {'source': {'id': None, 'name': 'Gizmodo.com'},\n",
       "  'author': 'Tom McKay',\n",
       "  'title': 'India Lifts Its Ban on Video App TikTok, Allowing It to Return to Apple and Google App Stores',\n",
       "  'description': 'The Indian government lifted a ban on downloads of the TikTok video app on Wednesday, Reuters cited two lawyers in the case as saying, reversing orders for Apple and Google to remove the app from their stores. Read more...',\n",
       "  'url': 'https://gizmodo.com/india-lifts-its-ban-on-video-app-tiktok-allowing-it-to-1834288665',\n",
       "  'urlToImage': 'https://i.kinja-img.com/gawker-media/image/upload/s--nrasYadF--/c_fill,fl_progressive,g_center,h_900,q_80,w_1600/gbcsmwob4n6bqcs1wjo7.jpg',\n",
       "  'publishedAt': '2019-04-25T03:50:00Z',\n",
       "  'content': 'The Indian government lifted a ban on downloads of the TikTok video app on Wednesday, Reuters cited two lawyers in the case as saying, reversing orders for Apple and Google to remove the app from their stores.\\r\\nEarlier this month, the Indian Ministry of Elect… [+3138 chars]'},\n",
       " {'source': {'id': None, 'name': 'Gizmodo.com'},\n",
       "  'author': 'Ed Cara',\n",
       "  'title': 'Sleep Drugs Like Ambien Will Get a New FDA Warning About Potentially Fatal Side Effects',\n",
       "  'description': 'The Food and Drug Administration is forcing certain sleep drugs to carry a deadly serious warning about the rare, frightening side effects they can cause. The side effects, which have reportedly caused serious injuries and even deaths, include sleepwalking an…',\n",
       "  'url': 'https://gizmodo.com/sleep-drugs-like-ambien-will-get-a-new-fda-warning-abou-1834427816',\n",
       "  'urlToImage': 'https://i.kinja-img.com/gawker-media/image/upload/s--uhcwTSkV--/c_fill,fl_progressive,g_center,h_900,q_80,w_1600/utj91dryfdww3elq0sy0.jpg',\n",
       "  'publishedAt': '2019-04-30T21:55:00Z',\n",
       "  'content': 'The Food and Drug Administration is forcing certain sleep drugs to carry a deadly serious warning about the rare, frightening side effects they can cause. The side effects, which have reportedly caused serious injuries and even deaths, include sleepwalking an… [+2603 chars]'},\n",
       " {'source': {'id': None, 'name': 'Gizmodo.com'},\n",
       "  'author': 'Ed Cara',\n",
       "  'title': \"A Treatment That Uses Mild Shocks to Treat ADHD in Children Now Has the FDA's Blessing\",\n",
       "  'description': 'Families of children with attention deficit hyperactivity disorder (ADHD) will now have a new, non-drug, treatment available to manage the condition: a medical device attached to the forehead that sends mild shocks to the nervous system. Read more...',\n",
       "  'url': 'https://gizmodo.com/a-treatment-that-uses-mild-shocks-to-treat-adhd-in-chil-1834225468',\n",
       "  'urlToImage': 'https://i.kinja-img.com/gawker-media/image/upload/s--edacqWbr--/c_fill,fl_progressive,g_center,h_900,q_80,w_1600/dgdrlj6ka1kapfgn38xv.jpg',\n",
       "  'publishedAt': '2019-04-22T22:40:00Z',\n",
       "  'content': 'Families of children with attention deficit hyperactivity disorder (ADHD) will now have a new, non-drug, treatment available to manage the condition: a medical device attached to the forehead that sends mild shocks to the nervous system.\\r\\nOver the weekend, th… [+4709 chars]'},\n",
       " {'source': {'id': 'the-new-york-times', 'name': 'The New York Times'},\n",
       "  'author': 'AMY BARNHORST',\n",
       "  'title': 'The Empty Promise of Suicide Prevention',\n",
       "  'description': 'Many of the problems that lead people to kill themselves cannot be fixed with a little extra serotonin.',\n",
       "  'url': 'https://www.nytimes.com/2019/04/26/opinion/sunday/suicide-prevention.html',\n",
       "  'urlToImage': 'https://static01.nyt.com/images/2019/04/28/opinion/sunday/28barnhorst/28barnhorst-facebookJumbo.jpg',\n",
       "  'publishedAt': '2019-04-27T01:38:53Z',\n",
       "  'content': 'I asked the resident how he planned to help her while she was in the hospital. After a pause, he suggested meekly, Start her on an antidepressant?\\r\\nI could tell he knew how ridiculous it sounded.\\r\\nAs doctors, we want to help people, and it can be hard for us … [+1977 chars]'},\n",
       " {'source': {'id': 'the-new-york-times', 'name': 'The New York Times'},\n",
       "  'author': 'JEFFREY GETTLEMAN, DHARISHA BASTIANS and KAI SCHULTZ',\n",
       "  'title': 'Suicide Bombers Included Two Sons of Sri Lanka Spice Tycoon',\n",
       "  'description': 'The aura of success surrounding Mohammad Yusuf Ibrahim, head of a Sri Lanka spice empire, crashed on news that two of his sons were Easter Sunday bombers.',\n",
       "  'url': 'https://www.nytimes.com/2019/04/24/world/asia/sri-lanka-bombers-millionaire.html',\n",
       "  'urlToImage': 'https://static01.nyt.com/images/2019/04/24/world/24millionaire/24millionaire-facebookJumbo.jpg',\n",
       "  'publishedAt': '2019-04-24T22:27:20Z',\n",
       "  'content': 'Many lawmakers dismissed assertions that the president would not have known about the threat memo, saying that blame for the security lapse should go all the way to the top.\\r\\nSarath Fonseka, a member of Parliament who was an army chief in the last stage of Sr… [+1309 chars]'},\n",
       " {'source': {'id': 'the-new-york-times', 'name': 'The New York Times'},\n",
       "  'author': 'JEFFREY GETTLEMAN and KAI SCHULTZ',\n",
       "  'title': 'On a Day of Mourning in Sri Lanka, Religious Tension Builds',\n",
       "  'description': 'Amid mass burials for the more than 300 victims of Sunday’s suicide attacks in Sri Lanka, grief began to harden into anger.',\n",
       "  'url': 'https://www.nytimes.com/2019/04/23/world/asia/sri-lanka-attack-burials.html',\n",
       "  'urlToImage': 'https://static01.nyt.com/images/2019/04/23/world/23srilanka-briefing5-promo/23srilanka-briefing5-promo-facebookJumbo-v4.jpg',\n",
       "  'publishedAt': '2019-04-23T19:04:36Z',\n",
       "  'content': 'All morning, the family had been getting ready at home.\\r\\nMs. Fernandos daughters cooked a plate of salt fish curry, rice and pumpkin, placing it on a carpet near a small shrine with their mothers photograph. As an alm, we offer food, one daughter explained.\\r\\n… [+1266 chars]'},\n",
       " {'source': {'id': 'the-new-york-times', 'name': 'The New York Times'},\n",
       "  'author': 'JENNIFER STEINHAUER',\n",
       "  'title': 'V.A. Officials, and the Nation, Battle an Unrelenting Tide of Veteran Suicides',\n",
       "  'description': 'High rates of homelessness, traumatic brain injuries, post-traumatic stress and a military culture that can be resistant to seeking help are all aggravating factors for veterans.',\n",
       "  'url': 'https://www.nytimes.com/2019/04/14/us/politics/veterans-suicide.html',\n",
       "  'urlToImage': 'https://static01.nyt.com/images/2019/04/12/us/politics/14dc-vets1/00dc-vets1-facebookJumbo.jpg',\n",
       "  'publishedAt': '2019-04-14T14:46:57Z',\n",
       "  'content': 'The vast majority of veterans that die by suicide are not seeking services, said Julie Cerel, a professor at the University of Kentucky and president of the American Association of Suicidology. So the V.A.s are kind of at a loss of how to serve this group of … [+2064 chars]'},\n",
       " {'source': {'id': 'the-new-york-times', 'name': 'The New York Times'},\n",
       "  'author': 'DAVID ZUCCHINO',\n",
       "  'title': 'U.S. and Afghan Forces Are Killing More Civilians Than Insurgents Do, U.N. Says',\n",
       "  'description': 'Afghan civilian deaths attributed to pro-government forces rose in the first quarter of this year, even as overall civilian casualties dropped, according to the U.N.',\n",
       "  'url': 'https://www.nytimes.com/2019/04/24/world/asia/afghanistan-civilian-casualties-united-nations.html',\n",
       "  'urlToImage': 'https://static01.nyt.com/images/2019/04/24/world/24afghanistan-casualties-1/24afghanistan-casualties-1-facebookJumbo.jpg',\n",
       "  'publishedAt': '2019-04-24T06:38:37Z',\n",
       "  'content': 'A shocking number of civilians continue to be killed and maimed each day, Tadamichi Yamamoto, the United Nations secretary generals special representative for Afghanistan, said in a statement. All parties must do more to safeguard civilians.\\r\\nThe United Natio… [+1393 chars]'},\n",
       " {'source': {'id': 'the-new-york-times', 'name': 'The New York Times'},\n",
       "  'author': 'JULIET MACUR',\n",
       "  'title': 'Olympic Cyclist Kelly Catlin Seemed Destined for Glory. Why Did She Kill Herself?',\n",
       "  'description': 'Colin Catlin, sifted through the belongings retrieved from Kelly’s graduate student apartment at Stanford, hoping for clues explaining why she took her life last month at age 23.',\n",
       "  'url': 'https://www.nytimes.com/2019/04/08/sports/kelly-catlin-suicide-cycling.html',\n",
       "  'urlToImage': 'https://static01.nyt.com/images/2019/04/08/sports/08catlin-print/merlin_152658954_a217dd28-0ba1-4390-bb01-f80362169a1e-facebookJumbo.jpg',\n",
       "  'publishedAt': '2019-04-08T20:37:41Z',\n",
       "  'content': 'There was this profound apathy, her father said. She didnt care about winning medals anymore.\\r\\nLife at Stanford was much different than she was used to. She moved into a dorm there after living with her brother at the University of Minnesota while finishing h… [+1889 chars]'},\n",
       " {'source': {'id': 'the-new-york-times', 'name': 'The New York Times'},\n",
       "  'author': 'THE NEW YORK TIMES',\n",
       "  'title': 'Sri Lanka Photos: Grief and Questions Amid the Carnage',\n",
       "  'description': 'St Anthony’s Shrine in Colombo, Sri Lanka, on Monday, the day after an explosion killed multiple people there.',\n",
       "  'url': 'https://www.nytimes.com/2019/04/22/world/asia/sri-lanka-photos.html',\n",
       "  'urlToImage': 'https://static01.nyt.com/images/2019/04/22/world/22srilanka-photos-15/22srilanka-photos-15-facebookJumbo.jpg',\n",
       "  'publishedAt': '2019-04-22T06:22:10Z',\n",
       "  'content': 'Police officials in Sri Lanka said the attacks had been coordinated by a single group, though they did not identify it. The Colombo attacks were said to have been carried out by suicide bombers.\\r\\nAmong the nearly 300 killed and hundreds more wounded, the auth… [+184 chars]'},\n",
       " {'source': {'id': 'the-new-york-times', 'name': 'The New York Times'},\n",
       "  'author': 'BRYANT ROUSSEAU',\n",
       "  'title': 'What We Know and Don’t Know About the Sri Lanka Attacks',\n",
       "  'description': 'More information about who planned the attacks and who was killed was released by the authorities on Monday, but essential questions remain unanswered.',\n",
       "  'url': 'https://www.nytimes.com/2019/04/22/world/asia/sri-lanka-attacks-updates.html',\n",
       "  'urlToImage': 'https://static01.nyt.com/images/2019/04/22/world/22srilanka-whatweknow/22srilanka-whatweknow-facebookJumbo.jpg',\n",
       "  'publishedAt': '2019-04-23T00:00:05Z',\n",
       "  'content': 'One of the suicide bombers was arrested a few months ago on suspicion of having vandalized a statue of Buddha, a highly provocative act in Sri Lanka, a Buddhist-majority island nation in the Indian Ocean.\\r\\n In Washington, intelligence and counterterrorism ana… [+1252 chars]'}]"
      ]
     },
     "execution_count": 142,
     "metadata": {},
     "output_type": "execute_result"
    }
   ],
   "source": [
    "api_news['articles']"
   ]
  },
  {
   "cell_type": "code",
   "execution_count": 149,
   "metadata": {},
   "outputs": [],
   "source": [
    "articles = api_news['articles'][10]"
   ]
  },
  {
   "cell_type": "code",
   "execution_count": 150,
   "metadata": {},
   "outputs": [
    {
     "data": {
      "text/plain": [
       "dict"
      ]
     },
     "execution_count": 150,
     "metadata": {},
     "output_type": "execute_result"
    }
   ],
   "source": [
    "type(articles)"
   ]
  },
  {
   "cell_type": "code",
   "execution_count": 151,
   "metadata": {},
   "outputs": [
    {
     "data": {
      "text/plain": [
       "{'source': {'id': None, 'name': 'Gizmodo.com'},\n",
       " 'author': 'Ed Cara',\n",
       " 'title': 'Sleep Drugs Like Ambien Will Get a New FDA Warning About Potentially Fatal Side Effects',\n",
       " 'description': 'The Food and Drug Administration is forcing certain sleep drugs to carry a deadly serious warning about the rare, frightening side effects they can cause. The side effects, which have reportedly caused serious injuries and even deaths, include sleepwalking an…',\n",
       " 'url': 'https://gizmodo.com/sleep-drugs-like-ambien-will-get-a-new-fda-warning-abou-1834427816',\n",
       " 'urlToImage': 'https://i.kinja-img.com/gawker-media/image/upload/s--uhcwTSkV--/c_fill,fl_progressive,g_center,h_900,q_80,w_1600/utj91dryfdww3elq0sy0.jpg',\n",
       " 'publishedAt': '2019-04-30T21:55:00Z',\n",
       " 'content': 'The Food and Drug Administration is forcing certain sleep drugs to carry a deadly serious warning about the rare, frightening side effects they can cause. The side effects, which have reportedly caused serious injuries and even deaths, include sleepwalking an… [+2603 chars]'}"
      ]
     },
     "execution_count": 151,
     "metadata": {},
     "output_type": "execute_result"
    }
   ],
   "source": [
    "articles"
   ]
  },
  {
   "cell_type": "code",
   "execution_count": 145,
   "metadata": {},
   "outputs": [
    {
     "data": {
      "text/plain": [
       "dict_keys(['source', 'author', 'title', 'description', 'url', 'urlToImage', 'publishedAt', 'content'])"
      ]
     },
     "execution_count": 145,
     "metadata": {},
     "output_type": "execute_result"
    }
   ],
   "source": [
    "api_news['articles'][19].keys()"
   ]
  },
  {
   "cell_type": "code",
   "execution_count": 148,
   "metadata": {},
   "outputs": [
    {
     "data": {
      "text/plain": [
       "'The Food and Drug Administration is forcing certain sleep drugs to carry a deadly serious warning about the rare, frightening side effects they can cause. The side effects, which have reportedly caused serious injuries and even deaths, include sleepwalking an…'"
      ]
     },
     "execution_count": 148,
     "metadata": {},
     "output_type": "execute_result"
    }
   ],
   "source": [
    "api_news['articles'][10]['description']"
   ]
  },
  {
   "cell_type": "code",
   "execution_count": null,
   "metadata": {},
   "outputs": [],
   "source": []
  }
 ],
 "metadata": {
  "kernelspec": {
   "display_name": "Python 3",
   "language": "python",
   "name": "python3"
  },
  "language_info": {
   "codemirror_mode": {
    "name": "ipython",
    "version": 3
   },
   "file_extension": ".py",
   "mimetype": "text/x-python",
   "name": "python",
   "nbconvert_exporter": "python",
   "pygments_lexer": "ipython3",
   "version": "3.6.8"
  }
 },
 "nbformat": 4,
 "nbformat_minor": 2
}
