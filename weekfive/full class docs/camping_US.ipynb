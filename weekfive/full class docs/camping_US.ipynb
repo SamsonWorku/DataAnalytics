{
 "cells": [
  {
   "cell_type": "code",
   "execution_count": 99,
   "metadata": {},
   "outputs": [],
   "source": [
    "import pandas as pd\n",
    "import numpy as np\n",
    "import os\n",
    "\n",
    "import geopy\n"
   ]
  },
  {
   "cell_type": "code",
   "execution_count": 6,
   "metadata": {},
   "outputs": [
    {
     "data": {
      "text/plain": [
       "'C:\\\\Users\\\\GBTC408002ur\\\\Documents\\\\lvl2 data'"
      ]
     },
     "execution_count": 6,
     "metadata": {},
     "output_type": "execute_result"
    }
   ],
   "source": [
    "os.getcwd()"
   ]
  },
  {
   "cell_type": "code",
   "execution_count": 7,
   "metadata": {},
   "outputs": [],
   "source": [
    "file = \"./datasets/fed_campsites.csv\"\n",
    "df = pd.read_csv(file)"
   ]
  },
  {
   "cell_type": "code",
   "execution_count": 8,
   "metadata": {},
   "outputs": [
    {
     "data": {
      "text/html": [
       "<div>\n",
       "<style scoped>\n",
       "    .dataframe tbody tr th:only-of-type {\n",
       "        vertical-align: middle;\n",
       "    }\n",
       "\n",
       "    .dataframe tbody tr th {\n",
       "        vertical-align: top;\n",
       "    }\n",
       "\n",
       "    .dataframe thead th {\n",
       "        text-align: right;\n",
       "    }\n",
       "</style>\n",
       "<table border=\"1\" class=\"dataframe\">\n",
       "  <thead>\n",
       "    <tr style=\"text-align: right;\">\n",
       "      <th></th>\n",
       "      <th>Unnamed: 0</th>\n",
       "      <th>CampsiteID</th>\n",
       "      <th>CampsiteName</th>\n",
       "      <th>CampsiteType</th>\n",
       "      <th>FacilityID</th>\n",
       "      <th>FacilityLatitude</th>\n",
       "      <th>FacilityLongitude</th>\n",
       "      <th>FacilityName</th>\n",
       "      <th>AddressStateCode</th>\n",
       "      <th>OrgAbbrevName</th>\n",
       "    </tr>\n",
       "  </thead>\n",
       "  <tbody>\n",
       "    <tr>\n",
       "      <th>0</th>\n",
       "      <td>0</td>\n",
       "      <td>1</td>\n",
       "      <td>65.0</td>\n",
       "      <td>STANDARD NONELECTRIC</td>\n",
       "      <td>232446</td>\n",
       "      <td>37.573056</td>\n",
       "      <td>-119.665</td>\n",
       "      <td>WAWONA</td>\n",
       "      <td>CA</td>\n",
       "      <td>NPS</td>\n",
       "    </tr>\n",
       "    <tr>\n",
       "      <th>1</th>\n",
       "      <td>1</td>\n",
       "      <td>2</td>\n",
       "      <td>66.0</td>\n",
       "      <td>STANDARD NONELECTRIC</td>\n",
       "      <td>232446</td>\n",
       "      <td>37.573056</td>\n",
       "      <td>-119.665</td>\n",
       "      <td>WAWONA</td>\n",
       "      <td>CA</td>\n",
       "      <td>NPS</td>\n",
       "    </tr>\n",
       "    <tr>\n",
       "      <th>2</th>\n",
       "      <td>2</td>\n",
       "      <td>5</td>\n",
       "      <td>68.0</td>\n",
       "      <td>STANDARD NONELECTRIC</td>\n",
       "      <td>232446</td>\n",
       "      <td>37.573056</td>\n",
       "      <td>-119.665</td>\n",
       "      <td>WAWONA</td>\n",
       "      <td>CA</td>\n",
       "      <td>NPS</td>\n",
       "    </tr>\n",
       "    <tr>\n",
       "      <th>3</th>\n",
       "      <td>3</td>\n",
       "      <td>6</td>\n",
       "      <td>70.0</td>\n",
       "      <td>STANDARD NONELECTRIC</td>\n",
       "      <td>232446</td>\n",
       "      <td>37.573056</td>\n",
       "      <td>-119.665</td>\n",
       "      <td>WAWONA</td>\n",
       "      <td>CA</td>\n",
       "      <td>NPS</td>\n",
       "    </tr>\n",
       "    <tr>\n",
       "      <th>4</th>\n",
       "      <td>4</td>\n",
       "      <td>9</td>\n",
       "      <td>74.0</td>\n",
       "      <td>STANDARD NONELECTRIC</td>\n",
       "      <td>232446</td>\n",
       "      <td>37.573056</td>\n",
       "      <td>-119.665</td>\n",
       "      <td>WAWONA</td>\n",
       "      <td>CA</td>\n",
       "      <td>NPS</td>\n",
       "    </tr>\n",
       "  </tbody>\n",
       "</table>\n",
       "</div>"
      ],
      "text/plain": [
       "   Unnamed: 0  CampsiteID CampsiteName          CampsiteType  FacilityID  \\\n",
       "0           0           1         65.0  STANDARD NONELECTRIC      232446   \n",
       "1           1           2         66.0  STANDARD NONELECTRIC      232446   \n",
       "2           2           5         68.0  STANDARD NONELECTRIC      232446   \n",
       "3           3           6         70.0  STANDARD NONELECTRIC      232446   \n",
       "4           4           9         74.0  STANDARD NONELECTRIC      232446   \n",
       "\n",
       "   FacilityLatitude  FacilityLongitude FacilityName AddressStateCode  \\\n",
       "0         37.573056           -119.665       WAWONA               CA   \n",
       "1         37.573056           -119.665       WAWONA               CA   \n",
       "2         37.573056           -119.665       WAWONA               CA   \n",
       "3         37.573056           -119.665       WAWONA               CA   \n",
       "4         37.573056           -119.665       WAWONA               CA   \n",
       "\n",
       "  OrgAbbrevName  \n",
       "0           NPS  \n",
       "1           NPS  \n",
       "2           NPS  \n",
       "3           NPS  \n",
       "4           NPS  "
      ]
     },
     "execution_count": 8,
     "metadata": {},
     "output_type": "execute_result"
    }
   ],
   "source": [
    "df.head(5)"
   ]
  },
  {
   "cell_type": "code",
   "execution_count": 77,
   "metadata": {},
   "outputs": [
    {
     "data": {
      "text/plain": [
       "Index(['Unnamed: 0', 'CampsiteID', 'CampsiteName', 'CampsiteType',\n",
       "       'FacilityID', 'FacilityLatitude', 'FacilityLongitude', 'FacilityName',\n",
       "       'AddressStateCode', 'OrgAbbrevName'],\n",
       "      dtype='object')"
      ]
     },
     "execution_count": 77,
     "metadata": {},
     "output_type": "execute_result"
    }
   ],
   "source": [
    "df.columns"
   ]
  },
  {
   "cell_type": "code",
   "execution_count": 11,
   "metadata": {},
   "outputs": [
    {
     "data": {
      "text/plain": [
       "array(['CA', 'UT', 'MI', 'CO', 'VA', 'AK', 'WA', 'KY', 'NC', 'TN', 'AZ',\n",
       "       'MT', 'MD', 'FL', 'TX', 'AR', 'MO', 'OK', 'OR', 'WI', 'IA', 'ID',\n",
       "       'WY', 'NH', 'KS', 'IL', 'MN', 'NM', 'GA', 'PA', 'AL', 'OH', 'NV',\n",
       "       'WV', 'IN', 'SD', 'MS', 'SC', 'ND', 'VT', 'NE', 'MA', 'CT', 'ME',\n",
       "       'NJ', 'NY', 'LA'], dtype=object)"
      ]
     },
     "execution_count": 11,
     "metadata": {},
     "output_type": "execute_result"
    }
   ],
   "source": [
    "df['AddressStateCode'].unique()"
   ]
  },
  {
   "cell_type": "code",
   "execution_count": 16,
   "metadata": {},
   "outputs": [],
   "source": [
    "duplicateRowsDF = df[df.duplicated(['FacilityLatitude'])]"
   ]
  },
  {
   "cell_type": "code",
   "execution_count": 15,
   "metadata": {},
   "outputs": [
    {
     "data": {
      "text/plain": [
       "Unnamed: 0           91907\n",
       "CampsiteID           91907\n",
       "CampsiteName         91907\n",
       "CampsiteType         91907\n",
       "FacilityID           91907\n",
       "FacilityLatitude     91880\n",
       "FacilityLongitude    91880\n",
       "FacilityName         91907\n",
       "AddressStateCode     91907\n",
       "OrgAbbrevName        91907\n",
       "dtype: int64"
      ]
     },
     "execution_count": 15,
     "metadata": {},
     "output_type": "execute_result"
    }
   ],
   "source": [
    "df.count()"
   ]
  },
  {
   "cell_type": "code",
   "execution_count": 17,
   "metadata": {},
   "outputs": [
    {
     "data": {
      "text/plain": [
       "Unnamed: 0           89131\n",
       "CampsiteID           89131\n",
       "CampsiteName         89131\n",
       "CampsiteType         89131\n",
       "FacilityID           89131\n",
       "FacilityLatitude     89105\n",
       "FacilityLongitude    89105\n",
       "FacilityName         89131\n",
       "AddressStateCode     89131\n",
       "OrgAbbrevName        89131\n",
       "dtype: int64"
      ]
     },
     "execution_count": 17,
     "metadata": {},
     "output_type": "execute_result"
    }
   ],
   "source": [
    "duplicateRowsDF.count()"
   ]
  },
  {
   "cell_type": "code",
   "execution_count": 14,
   "metadata": {},
   "outputs": [
    {
     "data": {
      "text/plain": [
       "array([-119.665     , -119.36      , -119.5625    , ..., -110.95666667,\n",
       "       -118.83305556, -112.47768056])"
      ]
     },
     "execution_count": 14,
     "metadata": {},
     "output_type": "execute_result"
    }
   ],
   "source": [
    "df['FacilityLongitude'].unique()"
   ]
  },
  {
   "cell_type": "code",
   "execution_count": 18,
   "metadata": {},
   "outputs": [],
   "source": [
    "nodupedf = df.drop_duplicates(['FacilityLatitude'], keep='last')"
   ]
  },
  {
   "cell_type": "code",
   "execution_count": 85,
   "metadata": {},
   "outputs": [
    {
     "data": {
      "text/html": [
       "<div>\n",
       "<style scoped>\n",
       "    .dataframe tbody tr th:only-of-type {\n",
       "        vertical-align: middle;\n",
       "    }\n",
       "\n",
       "    .dataframe tbody tr th {\n",
       "        vertical-align: top;\n",
       "    }\n",
       "\n",
       "    .dataframe thead th {\n",
       "        text-align: right;\n",
       "    }\n",
       "</style>\n",
       "<table border=\"1\" class=\"dataframe\">\n",
       "  <thead>\n",
       "    <tr style=\"text-align: right;\">\n",
       "      <th></th>\n",
       "      <th>Unnamed: 0</th>\n",
       "      <th>CampsiteID</th>\n",
       "      <th>CampsiteName</th>\n",
       "      <th>CampsiteType</th>\n",
       "      <th>FacilityID</th>\n",
       "      <th>FacilityLatitude</th>\n",
       "      <th>FacilityLongitude</th>\n",
       "      <th>FacilityName</th>\n",
       "      <th>AddressStateCode</th>\n",
       "      <th>OrgAbbrevName</th>\n",
       "    </tr>\n",
       "  </thead>\n",
       "  <tbody>\n",
       "    <tr>\n",
       "      <th>98</th>\n",
       "      <td>98</td>\n",
       "      <td>576</td>\n",
       "      <td>64.0</td>\n",
       "      <td>STANDARD NONELECTRIC</td>\n",
       "      <td>232446</td>\n",
       "      <td>37.573056</td>\n",
       "      <td>-119.665000</td>\n",
       "      <td>WAWONA</td>\n",
       "      <td>CA</td>\n",
       "      <td>NPS</td>\n",
       "    </tr>\n",
       "    <tr>\n",
       "      <th>413</th>\n",
       "      <td>413</td>\n",
       "      <td>1384</td>\n",
       "      <td>G008</td>\n",
       "      <td>TENT ONLY NONELECTRIC</td>\n",
       "      <td>232448</td>\n",
       "      <td>37.871111</td>\n",
       "      <td>-119.360000</td>\n",
       "      <td>TUOLUMNE MEADOWS</td>\n",
       "      <td>CA</td>\n",
       "      <td>NPS</td>\n",
       "    </tr>\n",
       "    <tr>\n",
       "      <th>653</th>\n",
       "      <td>653</td>\n",
       "      <td>331</td>\n",
       "      <td>171.0</td>\n",
       "      <td>STANDARD NONELECTRIC</td>\n",
       "      <td>232447</td>\n",
       "      <td>37.736111</td>\n",
       "      <td>-119.562500</td>\n",
       "      <td>UPPER PINES</td>\n",
       "      <td>CA</td>\n",
       "      <td>NPS</td>\n",
       "    </tr>\n",
       "    <tr>\n",
       "      <th>842</th>\n",
       "      <td>842</td>\n",
       "      <td>535</td>\n",
       "      <td>F014</td>\n",
       "      <td>WALK TO</td>\n",
       "      <td>232445</td>\n",
       "      <td>37.198611</td>\n",
       "      <td>-112.986389</td>\n",
       "      <td>WATCHMAN CAMPGROUND</td>\n",
       "      <td>UT</td>\n",
       "      <td>NPS</td>\n",
       "    </tr>\n",
       "    <tr>\n",
       "      <th>935</th>\n",
       "      <td>935</td>\n",
       "      <td>97600</td>\n",
       "      <td>U</td>\n",
       "      <td>STANDARD NONELECTRIC</td>\n",
       "      <td>232449</td>\n",
       "      <td>37.741944</td>\n",
       "      <td>-119.565556</td>\n",
       "      <td>NORTH PINES</td>\n",
       "      <td>CA</td>\n",
       "      <td>NPS</td>\n",
       "    </tr>\n",
       "  </tbody>\n",
       "</table>\n",
       "</div>"
      ],
      "text/plain": [
       "     Unnamed: 0  CampsiteID CampsiteName           CampsiteType  FacilityID  \\\n",
       "98           98         576         64.0   STANDARD NONELECTRIC      232446   \n",
       "413         413        1384         G008  TENT ONLY NONELECTRIC      232448   \n",
       "653         653         331        171.0   STANDARD NONELECTRIC      232447   \n",
       "842         842         535         F014                WALK TO      232445   \n",
       "935         935       97600            U   STANDARD NONELECTRIC      232449   \n",
       "\n",
       "     FacilityLatitude  FacilityLongitude         FacilityName  \\\n",
       "98          37.573056        -119.665000               WAWONA   \n",
       "413         37.871111        -119.360000     TUOLUMNE MEADOWS   \n",
       "653         37.736111        -119.562500          UPPER PINES   \n",
       "842         37.198611        -112.986389  WATCHMAN CAMPGROUND   \n",
       "935         37.741944        -119.565556          NORTH PINES   \n",
       "\n",
       "    AddressStateCode OrgAbbrevName  \n",
       "98                CA           NPS  \n",
       "413               CA           NPS  \n",
       "653               CA           NPS  \n",
       "842               UT           NPS  \n",
       "935               CA           NPS  "
      ]
     },
     "execution_count": 85,
     "metadata": {},
     "output_type": "execute_result"
    }
   ],
   "source": [
    "nodupedf.head()"
   ]
  },
  {
   "cell_type": "code",
   "execution_count": 19,
   "metadata": {},
   "outputs": [
    {
     "data": {
      "text/plain": [
       "Unnamed: 0           2776\n",
       "CampsiteID           2776\n",
       "CampsiteName         2776\n",
       "CampsiteType         2776\n",
       "FacilityID           2776\n",
       "FacilityLatitude     2775\n",
       "FacilityLongitude    2775\n",
       "FacilityName         2776\n",
       "AddressStateCode     2776\n",
       "OrgAbbrevName        2776\n",
       "dtype: int64"
      ]
     },
     "execution_count": 19,
     "metadata": {},
     "output_type": "execute_result"
    }
   ],
   "source": [
    "nodupedf.count()"
   ]
  },
  {
   "cell_type": "code",
   "execution_count": 26,
   "metadata": {},
   "outputs": [],
   "source": [
    "empty_rows = nodupedf.isnull()  #for any column"
   ]
  },
  {
   "cell_type": "code",
   "execution_count": 87,
   "metadata": {},
   "outputs": [],
   "source": [
    "no_empty_rows = nodupedf.dropna()\n",
    "#no_empty_rows.dtypes #### this dtypes changes the dataframe into a dtype of \"int64\"\n",
    "#no_empty_rows.head()"
   ]
  },
  {
   "cell_type": "code",
   "execution_count": 94,
   "metadata": {},
   "outputs": [],
   "source": [
    "no_empty_rows = no_empty_rows.drop(['Unnamed: 0'], axis =1)"
   ]
  },
  {
   "cell_type": "code",
   "execution_count": 96,
   "metadata": {},
   "outputs": [],
   "source": [
    "no_empty_rows = no_empty_rows.reset_index()"
   ]
  },
  {
   "cell_type": "code",
   "execution_count": 97,
   "metadata": {},
   "outputs": [
    {
     "data": {
      "text/html": [
       "<div>\n",
       "<style scoped>\n",
       "    .dataframe tbody tr th:only-of-type {\n",
       "        vertical-align: middle;\n",
       "    }\n",
       "\n",
       "    .dataframe tbody tr th {\n",
       "        vertical-align: top;\n",
       "    }\n",
       "\n",
       "    .dataframe thead th {\n",
       "        text-align: right;\n",
       "    }\n",
       "</style>\n",
       "<table border=\"1\" class=\"dataframe\">\n",
       "  <thead>\n",
       "    <tr style=\"text-align: right;\">\n",
       "      <th></th>\n",
       "      <th>index</th>\n",
       "      <th>CampsiteID</th>\n",
       "      <th>CampsiteName</th>\n",
       "      <th>CampsiteType</th>\n",
       "      <th>FacilityID</th>\n",
       "      <th>FacilityLatitude</th>\n",
       "      <th>FacilityLongitude</th>\n",
       "      <th>FacilityName</th>\n",
       "      <th>AddressStateCode</th>\n",
       "      <th>OrgAbbrevName</th>\n",
       "    </tr>\n",
       "  </thead>\n",
       "  <tbody>\n",
       "    <tr>\n",
       "      <th>0</th>\n",
       "      <td>98</td>\n",
       "      <td>576</td>\n",
       "      <td>64.0</td>\n",
       "      <td>STANDARD NONELECTRIC</td>\n",
       "      <td>232446</td>\n",
       "      <td>37.573056</td>\n",
       "      <td>-119.665000</td>\n",
       "      <td>WAWONA</td>\n",
       "      <td>CA</td>\n",
       "      <td>NPS</td>\n",
       "    </tr>\n",
       "    <tr>\n",
       "      <th>1</th>\n",
       "      <td>413</td>\n",
       "      <td>1384</td>\n",
       "      <td>G008</td>\n",
       "      <td>TENT ONLY NONELECTRIC</td>\n",
       "      <td>232448</td>\n",
       "      <td>37.871111</td>\n",
       "      <td>-119.360000</td>\n",
       "      <td>TUOLUMNE MEADOWS</td>\n",
       "      <td>CA</td>\n",
       "      <td>NPS</td>\n",
       "    </tr>\n",
       "    <tr>\n",
       "      <th>2</th>\n",
       "      <td>653</td>\n",
       "      <td>331</td>\n",
       "      <td>171.0</td>\n",
       "      <td>STANDARD NONELECTRIC</td>\n",
       "      <td>232447</td>\n",
       "      <td>37.736111</td>\n",
       "      <td>-119.562500</td>\n",
       "      <td>UPPER PINES</td>\n",
       "      <td>CA</td>\n",
       "      <td>NPS</td>\n",
       "    </tr>\n",
       "    <tr>\n",
       "      <th>3</th>\n",
       "      <td>842</td>\n",
       "      <td>535</td>\n",
       "      <td>F014</td>\n",
       "      <td>WALK TO</td>\n",
       "      <td>232445</td>\n",
       "      <td>37.198611</td>\n",
       "      <td>-112.986389</td>\n",
       "      <td>WATCHMAN CAMPGROUND</td>\n",
       "      <td>UT</td>\n",
       "      <td>NPS</td>\n",
       "    </tr>\n",
       "    <tr>\n",
       "      <th>4</th>\n",
       "      <td>935</td>\n",
       "      <td>97600</td>\n",
       "      <td>U</td>\n",
       "      <td>STANDARD NONELECTRIC</td>\n",
       "      <td>232449</td>\n",
       "      <td>37.741944</td>\n",
       "      <td>-119.565556</td>\n",
       "      <td>NORTH PINES</td>\n",
       "      <td>CA</td>\n",
       "      <td>NPS</td>\n",
       "    </tr>\n",
       "  </tbody>\n",
       "</table>\n",
       "</div>"
      ],
      "text/plain": [
       "   index  CampsiteID CampsiteName           CampsiteType  FacilityID  \\\n",
       "0     98         576         64.0   STANDARD NONELECTRIC      232446   \n",
       "1    413        1384         G008  TENT ONLY NONELECTRIC      232448   \n",
       "2    653         331        171.0   STANDARD NONELECTRIC      232447   \n",
       "3    842         535         F014                WALK TO      232445   \n",
       "4    935       97600            U   STANDARD NONELECTRIC      232449   \n",
       "\n",
       "   FacilityLatitude  FacilityLongitude         FacilityName AddressStateCode  \\\n",
       "0         37.573056        -119.665000               WAWONA               CA   \n",
       "1         37.871111        -119.360000     TUOLUMNE MEADOWS               CA   \n",
       "2         37.736111        -119.562500          UPPER PINES               CA   \n",
       "3         37.198611        -112.986389  WATCHMAN CAMPGROUND               UT   \n",
       "4         37.741944        -119.565556          NORTH PINES               CA   \n",
       "\n",
       "  OrgAbbrevName  \n",
       "0           NPS  \n",
       "1           NPS  \n",
       "2           NPS  \n",
       "3           NPS  \n",
       "4           NPS  "
      ]
     },
     "execution_count": 97,
     "metadata": {},
     "output_type": "execute_result"
    }
   ],
   "source": [
    "no_empty_rows.head()"
   ]
  },
  {
   "cell_type": "code",
   "execution_count": 98,
   "metadata": {},
   "outputs": [],
   "source": [
    "no_empty_rows.to_csv(r'./datasets/fed_camp_clean.csv')"
   ]
  },
  {
   "cell_type": "code",
   "execution_count": 79,
   "metadata": {},
   "outputs": [
    {
     "data": {
      "text/plain": [
       "Unnamed: 0           2775\n",
       "CampsiteID           2775\n",
       "CampsiteName         2775\n",
       "CampsiteType         2775\n",
       "FacilityID           2775\n",
       "FacilityLatitude     2775\n",
       "FacilityLongitude    2775\n",
       "FacilityName         2775\n",
       "AddressStateCode     2775\n",
       "OrgAbbrevName        2775\n",
       "dtype: int64"
      ]
     },
     "execution_count": 79,
     "metadata": {},
     "output_type": "execute_result"
    }
   ],
   "source": [
    "no_empty_rows = nodupedf.dropna().count()\n",
    "#no_empty_rows.dtypes\n",
    "no_empty_rows\n",
    "#no_empty_rows.head()"
   ]
  },
  {
   "cell_type": "code",
   "execution_count": 83,
   "metadata": {},
   "outputs": [
    {
     "name": "stderr",
     "output_type": "stream",
     "text": [
      "C:\\ProgramData\\Anaconda3\\lib\\site-packages\\ipykernel_launcher.py:1: FutureWarning: The signature of `Series.to_csv` was aligned to that of `DataFrame.to_csv`, and argument 'header' will change its default value from False to True: please pass an explicit value to suppress this warning.\n",
      "  \"\"\"Entry point for launching an IPython kernel.\n"
     ]
    }
   ],
   "source": []
  },
  {
   "cell_type": "code",
   "execution_count": 82,
   "metadata": {},
   "outputs": [
    {
     "data": {
      "text/plain": [
       "2775"
      ]
     },
     "execution_count": 82,
     "metadata": {},
     "output_type": "execute_result"
    }
   ],
   "source": [
    "df_unique_facLat = no_empty_rows['FacilityLatitude'] #this doesn't appear to be a dataframe? one column table not a dataframe??\n",
    "df_unique_facLat\n",
    "#df_unique.unique()\n",
    "\n",
    "#df_unique.dtype"
   ]
  },
  {
   "cell_type": "code",
   "execution_count": 78,
   "metadata": {},
   "outputs": [
    {
     "ename": "AttributeError",
     "evalue": "'Series' object has no attribute 'columns'",
     "output_type": "error",
     "traceback": [
      "\u001b[1;31m---------------------------------------------------------------------------\u001b[0m",
      "\u001b[1;31mAttributeError\u001b[0m                            Traceback (most recent call last)",
      "\u001b[1;32m<ipython-input-78-9d85aea8caba>\u001b[0m in \u001b[0;36m<module>\u001b[1;34m\u001b[0m\n\u001b[1;32m----> 1\u001b[1;33m \u001b[0mdf_unique_facLat\u001b[0m\u001b[1;33m.\u001b[0m\u001b[0mcolumns\u001b[0m\u001b[1;33m\u001b[0m\u001b[1;33m\u001b[0m\u001b[0m\n\u001b[0m",
      "\u001b[1;32mC:\\ProgramData\\Anaconda3\\lib\\site-packages\\pandas\\core\\generic.py\u001b[0m in \u001b[0;36m__getattr__\u001b[1;34m(self, name)\u001b[0m\n\u001b[0;32m   5061\u001b[0m         if (name in self._internal_names_set or name in self._metadata or\n\u001b[0;32m   5062\u001b[0m                 name in self._accessors):\n\u001b[1;32m-> 5063\u001b[1;33m             \u001b[1;32mreturn\u001b[0m \u001b[0mobject\u001b[0m\u001b[1;33m.\u001b[0m\u001b[0m__getattribute__\u001b[0m\u001b[1;33m(\u001b[0m\u001b[0mself\u001b[0m\u001b[1;33m,\u001b[0m \u001b[0mname\u001b[0m\u001b[1;33m)\u001b[0m\u001b[1;33m\u001b[0m\u001b[1;33m\u001b[0m\u001b[0m\n\u001b[0m\u001b[0;32m   5064\u001b[0m         \u001b[1;32melse\u001b[0m\u001b[1;33m:\u001b[0m\u001b[1;33m\u001b[0m\u001b[1;33m\u001b[0m\u001b[0m\n\u001b[0;32m   5065\u001b[0m             \u001b[1;32mif\u001b[0m \u001b[0mself\u001b[0m\u001b[1;33m.\u001b[0m\u001b[0m_info_axis\u001b[0m\u001b[1;33m.\u001b[0m\u001b[0m_can_hold_identifiers_and_holds_name\u001b[0m\u001b[1;33m(\u001b[0m\u001b[0mname\u001b[0m\u001b[1;33m)\u001b[0m\u001b[1;33m:\u001b[0m\u001b[1;33m\u001b[0m\u001b[1;33m\u001b[0m\u001b[0m\n",
      "\u001b[1;31mAttributeError\u001b[0m: 'Series' object has no attribute 'columns'"
     ]
    }
   ],
   "source": [
    "df_unique_facLat.columns"
   ]
  },
  {
   "cell_type": "code",
   "execution_count": 65,
   "metadata": {},
   "outputs": [
    {
     "data": {
      "text/plain": [
       "98     37.573056\n",
       "413    37.871111\n",
       "653    37.736111\n",
       "842    37.198611\n",
       "935    37.741944\n",
       "Name: FacilityLatitude, dtype: float64"
      ]
     },
     "execution_count": 65,
     "metadata": {},
     "output_type": "execute_result"
    }
   ],
   "source": [
    "df_unique_facLat.head()"
   ]
  },
  {
   "cell_type": "code",
   "execution_count": 51,
   "metadata": {},
   "outputs": [
    {
     "data": {
      "text/plain": [
       "dtype('int64')"
      ]
     },
     "execution_count": 51,
     "metadata": {},
     "output_type": "execute_result"
    }
   ],
   "source": [
    "df_unique.dtype"
   ]
  },
  {
   "cell_type": "code",
   "execution_count": 66,
   "metadata": {},
   "outputs": [
    {
     "data": {
      "text/plain": [
       "2775"
      ]
     },
     "execution_count": 66,
     "metadata": {},
     "output_type": "execute_result"
    }
   ],
   "source": [
    "df_unique_facLat.count()"
   ]
  },
  {
   "cell_type": "code",
   "execution_count": 75,
   "metadata": {},
   "outputs": [
    {
     "ename": "AttributeError",
     "evalue": "'Series' object has no attribute 'columns'",
     "output_type": "error",
     "traceback": [
      "\u001b[1;31m---------------------------------------------------------------------------\u001b[0m",
      "\u001b[1;31mAttributeError\u001b[0m                            Traceback (most recent call last)",
      "\u001b[1;32m<ipython-input-75-c2c146c118df>\u001b[0m in \u001b[0;36m<module>\u001b[1;34m\u001b[0m\n\u001b[1;32m----> 1\u001b[1;33m \u001b[0mdf_unique_facLat\u001b[0m\u001b[1;33m.\u001b[0m\u001b[0mcolumns\u001b[0m\u001b[1;33m(\u001b[0m\u001b[1;33m)\u001b[0m\u001b[1;33m\u001b[0m\u001b[1;33m\u001b[0m\u001b[0m\n\u001b[0m",
      "\u001b[1;32mC:\\ProgramData\\Anaconda3\\lib\\site-packages\\pandas\\core\\generic.py\u001b[0m in \u001b[0;36m__getattr__\u001b[1;34m(self, name)\u001b[0m\n\u001b[0;32m   5061\u001b[0m         if (name in self._internal_names_set or name in self._metadata or\n\u001b[0;32m   5062\u001b[0m                 name in self._accessors):\n\u001b[1;32m-> 5063\u001b[1;33m             \u001b[1;32mreturn\u001b[0m \u001b[0mobject\u001b[0m\u001b[1;33m.\u001b[0m\u001b[0m__getattribute__\u001b[0m\u001b[1;33m(\u001b[0m\u001b[0mself\u001b[0m\u001b[1;33m,\u001b[0m \u001b[0mname\u001b[0m\u001b[1;33m)\u001b[0m\u001b[1;33m\u001b[0m\u001b[1;33m\u001b[0m\u001b[0m\n\u001b[0m\u001b[0;32m   5064\u001b[0m         \u001b[1;32melse\u001b[0m\u001b[1;33m:\u001b[0m\u001b[1;33m\u001b[0m\u001b[1;33m\u001b[0m\u001b[0m\n\u001b[0;32m   5065\u001b[0m             \u001b[1;32mif\u001b[0m \u001b[0mself\u001b[0m\u001b[1;33m.\u001b[0m\u001b[0m_info_axis\u001b[0m\u001b[1;33m.\u001b[0m\u001b[0m_can_hold_identifiers_and_holds_name\u001b[0m\u001b[1;33m(\u001b[0m\u001b[0mname\u001b[0m\u001b[1;33m)\u001b[0m\u001b[1;33m:\u001b[0m\u001b[1;33m\u001b[0m\u001b[1;33m\u001b[0m\u001b[0m\n",
      "\u001b[1;31mAttributeError\u001b[0m: 'Series' object has no attribute 'columns'"
     ]
    }
   ],
   "source": [
    "df_unique_facLat.columns()"
   ]
  },
  {
   "cell_type": "code",
   "execution_count": 70,
   "metadata": {},
   "outputs": [
    {
     "data": {
      "text/plain": [
       "<bound method Series.unique of 98       37.573056\n",
       "413      37.871111\n",
       "653      37.736111\n",
       "842      37.198611\n",
       "935      37.741944\n",
       "1101     37.763889\n",
       "1106     37.662222\n",
       "1108     40.625556\n",
       "1114     45.012464\n",
       "1118     44.891667\n",
       "1240     44.712778\n",
       "1315     37.740833\n",
       "1423     37.798889\n",
       "1614     36.606711\n",
       "1775     40.329167\n",
       "2028     40.362500\n",
       "2252     38.528619\n",
       "2454     36.636111\n",
       "2514     58.559722\n",
       "2870     47.613056\n",
       "3176     37.190278\n",
       "3183     37.207222\n",
       "3641     35.658333\n",
       "3650     33.750000\n",
       "3764     34.120000\n",
       "3767     35.462778\n",
       "3924     35.753333\n",
       "3926     35.539444\n",
       "3933     35.627778\n",
       "3938     35.618333\n",
       "           ...    \n",
       "91099    46.195572\n",
       "91119    39.419069\n",
       "91120    46.553431\n",
       "91151    37.149386\n",
       "91167    37.313217\n",
       "91181    37.325361\n",
       "91212    43.746939\n",
       "91214    38.738289\n",
       "91244    45.991208\n",
       "91277    46.011392\n",
       "91313    45.889242\n",
       "91340    45.885247\n",
       "91352    45.816331\n",
       "91388    41.244856\n",
       "91418    44.705400\n",
       "91419    43.472778\n",
       "91512    44.040833\n",
       "91525    35.689861\n",
       "91618    48.689581\n",
       "91656    44.320561\n",
       "91665    34.394944\n",
       "91740    41.585844\n",
       "91741    38.553881\n",
       "91754    34.305417\n",
       "91762    46.980475\n",
       "91775    34.304806\n",
       "91794    43.919000\n",
       "91807    34.321431\n",
       "91850    36.718139\n",
       "91906    34.506169\n",
       "Name: FacilityLatitude, Length: 2775, dtype: float64>"
      ]
     },
     "execution_count": 70,
     "metadata": {},
     "output_type": "execute_result"
    }
   ],
   "source": [
    "df_unique_facLat.unique"
   ]
  },
  {
   "cell_type": "code",
   "execution_count": null,
   "metadata": {},
   "outputs": [],
   "source": []
  }
 ],
 "metadata": {
  "kernelspec": {
   "display_name": "Python 3",
   "language": "python",
   "name": "python3"
  },
  "language_info": {
   "codemirror_mode": {
    "name": "ipython",
    "version": 3
   },
   "file_extension": ".py",
   "mimetype": "text/x-python",
   "name": "python",
   "nbconvert_exporter": "python",
   "pygments_lexer": "ipython3",
   "version": "3.6.8"
  }
 },
 "nbformat": 4,
 "nbformat_minor": 2
}
