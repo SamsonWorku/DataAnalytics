{
 "cells": [
  {
   "cell_type": "code",
   "execution_count": 1,
   "metadata": {},
   "outputs": [
    {
     "name": "stderr",
     "output_type": "stream",
     "text": [
      "[nltk_data] Downloading package punkt to\n",
      "[nltk_data]     C:\\Users\\GBTC408002ur\\AppData\\Roaming\\nltk_data...\n",
      "[nltk_data]   Package punkt is already up-to-date!\n",
      "[nltk_data] Downloading package wordnet to\n",
      "[nltk_data]     C:\\Users\\GBTC408002ur\\AppData\\Roaming\\nltk_data...\n",
      "[nltk_data]   Package wordnet is already up-to-date!\n",
      "[nltk_data] Downloading package names to\n",
      "[nltk_data]     C:\\Users\\GBTC408002ur\\AppData\\Roaming\\nltk_data...\n",
      "[nltk_data]   Package names is already up-to-date!\n",
      "[nltk_data] Downloading package stopwords to\n",
      "[nltk_data]     C:\\Users\\GBTC408002ur\\AppData\\Roaming\\nltk_data...\n",
      "[nltk_data]   Package stopwords is already up-to-date!\n",
      "[nltk_data] Downloading package vader_lexicon to\n",
      "[nltk_data]     C:\\Users\\GBTC408002ur\\AppData\\Roaming\\nltk_data...\n",
      "[nltk_data]   Package vader_lexicon is already up-to-date!\n"
     ]
    },
    {
     "data": {
      "text/plain": [
       "True"
      ]
     },
     "execution_count": 1,
     "metadata": {},
     "output_type": "execute_result"
    }
   ],
   "source": [
    "import pandas as pd\n",
    "import os\n",
    "\n",
    "import nltk\n",
    "from nltk.tokenize import word_tokenize # as wt\n",
    "from nltk.tokenize import sent_tokenize\n",
    "from nltk.tokenize import TweetTokenizer\n",
    "from nltk.probability import FreqDist\n",
    "from nltk.corpus import stopwords\n",
    "from nltk.stem import WordNetLemmatizer \n",
    "from nltk.sentiment.vader import SentimentIntensityAnalyzer\n",
    "\n",
    "#this is sample data\n",
    "from nltk.corpus import names  \n",
    "\n",
    "from string import punctuation\n",
    "\n",
    "#if the next cell does not work\n",
    "#remove number symbol on following lines and re-run this cell\n",
    "nltk.download('punkt')\n",
    "nltk.download('wordnet')\n",
    "nltk.download('names')\n",
    "nltk.download('stopwords')\n",
    "nltk.download('vader_lexicon')"
   ]
  },
  {
   "cell_type": "code",
   "execution_count": 3,
   "metadata": {},
   "outputs": [
    {
     "data": {
      "text/plain": [
       "'C:\\\\Users\\\\GBTC408002ur\\\\Documents\\\\lvl2 data'"
      ]
     },
     "execution_count": 3,
     "metadata": {},
     "output_type": "execute_result"
    }
   ],
   "source": [
    "os.getcwd()"
   ]
  },
  {
   "cell_type": "code",
   "execution_count": 8,
   "metadata": {},
   "outputs": [],
   "source": [
    "df = pd.read_excel('.\\datasets\\one year of twitter suicide tweets.xlsx')"
   ]
  },
  {
   "cell_type": "code",
   "execution_count": 9,
   "metadata": {},
   "outputs": [
    {
     "data": {
      "text/html": [
       "<div>\n",
       "<style scoped>\n",
       "    .dataframe tbody tr th:only-of-type {\n",
       "        vertical-align: middle;\n",
       "    }\n",
       "\n",
       "    .dataframe tbody tr th {\n",
       "        vertical-align: top;\n",
       "    }\n",
       "\n",
       "    .dataframe thead th {\n",
       "        text-align: right;\n",
       "    }\n",
       "</style>\n",
       "<table border=\"1\" class=\"dataframe\">\n",
       "  <thead>\n",
       "    <tr style=\"text-align: right;\">\n",
       "      <th></th>\n",
       "      <th>Unnamed: 0</th>\n",
       "      <th>Unnamed: 1</th>\n",
       "      <th>content</th>\n",
       "    </tr>\n",
       "  </thead>\n",
       "  <tbody>\n",
       "    <tr>\n",
       "      <th>0</th>\n",
       "      <td>NaN</td>\n",
       "      <td>NaN</td>\n",
       "      <td>If you or someone you know is struggling or in...</td>\n",
       "    </tr>\n",
       "    <tr>\n",
       "      <th>1</th>\n",
       "      <td>NaN</td>\n",
       "      <td>NaN</td>\n",
       "      <td>Iâ€™ve thinking about suicide every single day...</td>\n",
       "    </tr>\n",
       "    <tr>\n",
       "      <th>2</th>\n",
       "      <td>NaN</td>\n",
       "      <td>NaN</td>\n",
       "      <td>This is how you write a headline.</td>\n",
       "    </tr>\n",
       "    <tr>\n",
       "      <th>3</th>\n",
       "      <td>NaN</td>\n",
       "      <td>NaN</td>\n",
       "      <td>How is suicide the biggest killer of boys unde...</td>\n",
       "    </tr>\n",
       "    <tr>\n",
       "      <th>4</th>\n",
       "      <td>NaN</td>\n",
       "      <td>NaN</td>\n",
       "      <td>Someone might need these contacts today: \\n\\nS...</td>\n",
       "    </tr>\n",
       "  </tbody>\n",
       "</table>\n",
       "</div>"
      ],
      "text/plain": [
       "   Unnamed: 0  Unnamed: 1                                            content\n",
       "0         NaN         NaN  If you or someone you know is struggling or in...\n",
       "1         NaN         NaN  Iâ€™ve thinking about suicide every single day...\n",
       "2         NaN         NaN                  This is how you write a headline.\n",
       "3         NaN         NaN  How is suicide the biggest killer of boys unde...\n",
       "4         NaN         NaN  Someone might need these contacts today: \\n\\nS..."
      ]
     },
     "execution_count": 9,
     "metadata": {},
     "output_type": "execute_result"
    }
   ],
   "source": [
    "df.head()"
   ]
  },
  {
   "cell_type": "code",
   "execution_count": 17,
   "metadata": {},
   "outputs": [],
   "source": [
    "content = df['content']"
   ]
  },
  {
   "cell_type": "code",
   "execution_count": 18,
   "metadata": {},
   "outputs": [
    {
     "data": {
      "text/plain": [
       "0    If you or someone you know is struggling or in...\n",
       "1    Iâ€™ve thinking about suicide every single day...\n",
       "2                    This is how you write a headline.\n",
       "3    How is suicide the biggest killer of boys unde...\n",
       "4    Someone might need these contacts today: \\n\\nS...\n",
       "Name: content, dtype: object"
      ]
     },
     "execution_count": 18,
     "metadata": {},
     "output_type": "execute_result"
    }
   ],
   "source": [
    "content.head()"
   ]
  },
  {
   "cell_type": "code",
   "execution_count": 28,
   "metadata": {},
   "outputs": [
    {
     "data": {
      "text/plain": [
       "22 VETERANS COMMIT SUICIDE EVERY DAY!!                                                                                                                                                                                                                                                                                                                                                             5\n",
       "Sri Lanka Arrests Father Of Suspected Easter Suicide Bombers                                                                                                                                                                                                                                                                                                                                       4\n",
       "Please retweet this. You just may save a life. \\n\\nNational Suicide Prevention Lifeline: 800-273-8255 @TrevorProject: 866-488-7386. Suicide is not an option. You are not alone. \\n\\nThere are many people who love and support you.  \\n#StopSuicide @Chas10Buttigieg                                                                                                                              3\n",
       "Approximately 22 veterans per day commit suicide.\\n\\nWould at least 22 of my Twitter friends please copy and tweet?\\n(Not RT)\\n\\nVeterans Crisis Line\\n800-273-8255\\nUK 0800 138 1619                                                                                                                                                                                                              3\n",
       "â€œA genius, a saviour, but he was also autistic and gay, so we betrayed him and drove him to suicide.\"                                                                                                                                                                                                                                                                                            3\n",
       "Approximately 22 veterans per day commit suicide.\\n\\nWould at least 22 of my Twitter friends please copy and tweet?\\n(Not RT)\\n\\nVeterans Crisis Line\\n800-273-8255\\nUK 0800 138 1619\\n\\nThank you.                                                                                                                                                                                                3\n",
       "Islamist terror leader wanted for Sri Lanka bombings was one of the suicide bombers, died in a hotel bombing\\n\\n                                                                                                                                                                                                                                                                                   2\n",
       "Approximately 22 veterans per day commit suicide.\\n\\nWould at least 22 of my Twitter friends please copy and tweet?\\n(Not RT)\\n\\nVeterans Crisis Line\\n800-273-8255\\nUK 0800 138 1619\\n\\nThank you.                                                                                                                                                                                                2\n",
       "More than 300 overworked NHS nurses have died by suicide in just seven years                                                                                                                                                                                                                                                                                                                       2\n",
       "Approximately 22 veterans per day commit suicide.\\n\\nWould at least 22 Twitter friends please copy and tweet?\\n(Not RT)\\n\\nVeterans Crisis Line\\n800-273-8255\\nUK 0800 138 1619\\n\\nThank you.                                                                                                                                                                                                      2\n",
       "Someone on your TL might need these contacts:\\n\\nSuicide - 0800567567\\nRape - 0214479762\\nAssault - 0861322322\\nDepression - 0800121314\\nEmergency - 112\\nADHD Helpline - 0800554433\\nTrauma Line - 0800205026\\nMental Health Line - 0112344837\\n\\nRetweet for Awareness.                                                                                                                          2\n",
       "People don't die from suicide, they die from sadness.                                                                                                                                                                                                                                                                                                                                              2\n",
       "After Todd Ewen died by suicide, his wife was convinced that he had CTE, a disease linked to head trauma. Meanwhile, the NHL has used Ewen to argue for hockey's safety. @nicpollock peers into the brain of a hockey fighter:                                                                                                                                                                     2\n",
       "James Gunn Says Heâ€™s â€˜Enormously Excitedâ€™ About Helming â€˜The Suicide Squadâ€™ http://bit.ly/2vpfT9nÂ                                                                                                                                                                                                                                                                                       2\n",
       "CCTV from Colombo's Kingsbury Hotel in Sri Lanka showed the suicide bomber entering the hotel and the moment of the blast on Easter Sunday.\\n\\nFor more on this story, head here: http://po.st/AVnrnmÂ                                                                                                                                                                                             2\n",
       "â€œWeâ€™re heartbroken and just sick by the tragedy that happened in Sri Lanka,â€ @WhoopiGoldberg says reacting to the series of Easter suicide bombings. â€œWeâ€™re joining the worldwide outpouring of support in sending all of you all the love we can.â€                                                                                                                                    2\n",
       ".@CaraDelevingne is being honored by The @TrevorProject, the national non-profit dedicated to providing crisis intervention and suicide prevention services to LGBTQ youth.\\n                                                                                                                                                                                                                      2\n",
       "A new documentary, Mystify: Michael Hutchence, is a very personal study of the tragic rise and fall of the artist, who committed suicide in 1997.                                                                                                                                                                                                                                                  2\n",
       "Ex-Trump staffer commits 'career suicide' â€” and publicly calls for 'unfit' president to be ousted                                                                                                                                                                                                                                                                                                2\n",
       "Revealed: Hitler's 'suicide note' in which he refused to flee Berlin                                                                                                                                                                                                                                                                                                                               2\n",
       "Suicide is one of the biggest killers of young males in the U.K and if Liverpool win the league Iâ€™ll be another statistic.                                                                                                                                                                                                                                                                       1\n",
       "Have you ever been #skinnydipping? Join @EvaliaXXX on the front page of SuicideGirls with her Set Of The Day â€œParadiseâ€ - http://SuicideGirls.comÂ                                                                                                                                                                                                                                             1\n",
       "LGBT youth are already much more likely to try to take their life than their peers. \\n\\nBut kids whose parents try to change their sexual orientation attempt suicide at more than double that rate.                                                                                                                                                                                               1\n",
       "Riyas Aboobacker from Kerala, joined ISIS & was on a mission to do Sri Lanka-type suicide bombings in Kerala\\n\\nNormal Indian: Thank you NIA for nabbing him & saving us!\\n\\nIndian Liberals: Aaaa oooh ummm Bhatka Hua Naujawan. Aaaa oooh ummm Religion of peace. Shame on Mudi                                                                                                                  1\n",
       "24 suspects were arrested in connection with a series of suicide bombings that \\n\\nkilled 290 & injured 500. \\n\\nThe Sri Lanka government identified National Thowheeth Jamaâ€™ath, a radical Islamic terrorist group, for the bombings.\\n\\nThis was a radical Islamic attack on Christianity.                                                                                                     1\n",
       "More than 200 troops and civilians gathered on the U.S. Navy base in Bahrain to honor the memory of three USS Firebolt crew members killed in a suicide attack 15 years ago.                                                                                                                                                                                                                       1\n",
       "women nail these predictions bc they use their love of literature, myth, storytelling technique/structure + symbolism to inform their analysis, unlike vader snapback twitter who donâ€™t even wipe the drool from their faces before saying â€œuh, I think kylo ren will commit suicide.â€                                                                                                       1\n",
       "What a powerful shirt this is.                                                                                                                                                                                                                                                                                                                                                                     1\n",
       "Please start raising your children with manners, respect & love for everyone no matter their gender, race or sexual orientation. Too many babies are committing suicide because other children are so harsh. Damn.                                                                                                                                                                                 1\n",
       "Was about to commit suicide when I was in high school... My youngest sister walked in with the biggest smile on her face, gave me a hug and just walked out\\n\\nKids are something else                                                                                                                                                                                                             1\n",
       "                                                                                                                                                                                                                                                                                                                                                                                                  ..\n",
       "IF #Netflix & #DavidAttenborough can so casually attribute â€œwalrus suicideâ€ to theorised man-made #ClimateChange, imagine what other falsehoods they are willing to tell you in order to push their â€˜catastrophicâ€™ climate narrative? https://climatism.blog/2019/04/23/our-planet-film-crew-is-still-lying-about-walrus-cliff-deaths-update-climatism/Â â€¦ via @JWSpry #Climate #Lies    1\n",
       "It seems @serathegamble continues to not understand the difference between narratively-earned pain and the extradiegetic hurt and betrayal caused by her decision to purposefully and permanently end a queer, mentally ill character's story in altruistic suicide. #TheMagicians                                                                                                                 1\n",
       "Â¦Â¤ Let's talk about someone who tries to push people into committing suicide.                                                                                                                                                                                                                                                                                                                    1\n",
       "Bloodcurdling cctv footage of the suspected suicide bomber at Sri Lankaâ€™s Shangri-La hotel. Footage ends where he detonated his explosives â€” the buffet breakfast room filled with families and children.                                                                                                                                                                                      1\n",
       "Young educated people are unemployed, farmers are commiting suicide, pakora stalls aren't doing so well either, hence:                                                                                                                                                                                                                                                                             1\n",
       "I am not a fighter but I draw the line here. I know of two ranchers that have committed suicide because they can not deal with the emotional distress of losing their livestock to the flooding. Animals dying in that disaster was the LAST thing anyone wanted. Now this, disgusting.                                                                                                            1\n",
       "I could not be happier that there are places where the VA is working. There are other places where wait times are extraordinary and patients die. There are huge staffing shortages. We are fighting an opioid and suicide crisis. We cannot brag on a system with these issues.                                                                                                                   1\n",
       "TW Suicide\\nThe last selfie of Philip, who took his own life moments later on March 18th 2019. He was 34 yrs old and a single parent to three young children. He hid his depression and his mother doesn't want his death to be in vain.\\nReach out and let someone guide you safely home                                                                                                          1\n",
       "i vote for no more flippin war until every single veteran is taken care of.\\n\\nwe lose 22 veterans every single day to suicide. \\n\\nthis has to stop.\\n                                                                                                                                                                                                                                            1\n",
       "Please read and share for awareness. Our suicide rate is unacceptable                                                                                                                                                                                                                                                                                                                              1\n",
       "Opportunity for researcher to undertake this work on behalf of â¦@HSELiveâ© Mental Health: request for proposals, evidence base for suicide prevention work | activelink https://www.activelink.ie/content/vacancies/tenders/43946Â â€¦                                                                                                                                                          1\n",
       "Daniela Melchior is in talks to be cast as Ratcatcher in James Gunnâ€™s â€˜THE SUICIDE SQUADâ€™. (Source: https://wp.me/p2WgDE-1jqvLVÂ )                                                                                                                                                                                                                                                           1\n",
       "I'm truly not ready for this episode. If Tormund dies I'm gonna commit suicide #GameofThrones                                                                                                                                                                                                                                                                                                      1\n",
       "1 May 1945: Joseph #Goebbels and his wife kill themselves and their children. Josephâ€™s stepson was spared as he was in the #Luftwaffe and had been captured by the Allies. #Hitler had committed suicide the day before. #WWII #WW2 #history                                                                                                                                                     1\n",
       "1st wave emo: pierce the veil and sleeping with sirens \\n2nd wave emo: nirvana and red hot chili peppers \\n3rd wave emo: the 1975 and lorde\\n4th wave emo: mom jeans and teen suicide \\nlike if u agree                                                                                                                                                                                            1\n",
       "acts of kindness can change so much. check up on your friends even the ones that seem fine. suicide awareness should be taken more seriously. 1-800-273-8255 < national suicide prevention lifeline. rest in peace kaylee, so sorry it had to be this way.                                                                                                                                         1\n",
       "I have read a bunch of these active shooter stories over the years, & every time the other guns show up -- either law enforcement or civilian -- the attack ends (often with a suicide) because the shooter knows his time's up & he no longer has control of the event.                                                                                                                           1\n",
       "BREAKING: One of Sri Lanka suicide bombers studied in the UK, state defence minister says                                                                                                                                                                                                                                                                                                          1\n",
       "Nearly half of trans children have considered suicide.                                                                                                                                                                                                                                                                                                                                             1\n",
       "suicide is like working out. you always look forward to it but never do it                                                                                                                                                                                                                                                                                                                         1\n",
       ".@JamesGunn is 'enormously excited' about directing \"The Suicide Squad\"                                                                                                                                                                                                                                                                                                                            1\n",
       "Did you know that on average 22 veterans commit suicide a day? This needs to end! Veterans lives matter!\\n\\nGet your shirt (Or Hoodie) to help spread awareness ==> http://gear.mainwashed.comÂ                                                                                                                                                                                                    1\n",
       "\"Suicide prevention campaigns encourage people to overcome stigma, tell someone or call a hotline. The implication is that the help is there, just waiting to be sought out,\" the psychiatrist @amybarnhorst writes. \"But it is not that easy.\"                                                                                                                                                    1\n",
       "Under the failed leadership of TRS, 3 Lakh out of 9 Lakh students who appeared for the Telangana Intermediate Exams, failed. A 'goof up' in the publication of results has led 19 students to commit suicide. This loss of young lives & harassment of 3 Lakh families is unacceptable.                                                                                                            1\n",
       "when you're thinking of ways to commit suicide but than remember you're with your friends so you gotta play it cool                                                                                                                                                                                                                                                                                1\n",
       "in a group of kids who have lost friends and members of their community to suicide, you'd think \"kill yourself\" would be an outdated and generally unacceptable insult                                                                                                                                                                                                                             1\n",
       "Independent Scentsy consultants were the monsters in Bird Box driving people to mass suicide                                                                                                                                                                                                                                                                                                       1\n",
       "is a special kind of evil. And because most yahoo boys don't see the effect on their victims who they caught off most times, they don't know which ones might have committed suicide, or lost their minds, become homeless, or jobless and what not because of their actions.                                                                                                                      1\n",
       "11 years now, starting with my husband's terrifying descent into depression, his suicide attempts, my long battle with the bank and an abusive aggressive IP, and loss of everything I had worked for in my life. \\nCourtesy of NatWest and their PG. \\n#PGcrimes                                                                                                                                  1\n",
       "\"glorifying suicide\" is now available on every streaming service Have you already heard it?\\nAlso we had a very intense record release party in Stockholm, thank you to klubb lunacy for the invite and to all those who attended. We'll definitely be back in Sweden in the future.                                                                                                               1\n",
       "Name: content, Length: 1827, dtype: int64"
      ]
     },
     "execution_count": 28,
     "metadata": {},
     "output_type": "execute_result"
    }
   ],
   "source": [
    "content.value_counts()"
   ]
  },
  {
   "cell_type": "code",
   "execution_count": 29,
   "metadata": {},
   "outputs": [
    {
     "data": {
      "text/plain": [
       "1856"
      ]
     },
     "execution_count": 29,
     "metadata": {},
     "output_type": "execute_result"
    }
   ],
   "source": [
    "content.count()"
   ]
  },
  {
   "cell_type": "code",
   "execution_count": 44,
   "metadata": {},
   "outputs": [
    {
     "ename": "KeyError",
     "evalue": "'content'",
     "output_type": "error",
     "traceback": [
      "\u001b[1;31m---------------------------------------------------------------------------\u001b[0m",
      "\u001b[1;31mKeyError\u001b[0m                                  Traceback (most recent call last)",
      "\u001b[1;32m<ipython-input-44-7eec160d128d>\u001b[0m in \u001b[0;36m<module>\u001b[1;34m\u001b[0m\n\u001b[1;32m----> 1\u001b[1;33m \u001b[0mstring_cont\u001b[0m \u001b[1;33m=\u001b[0m \u001b[0mcontent\u001b[0m\u001b[1;33m[\u001b[0m\u001b[1;34m'content'\u001b[0m\u001b[1;33m]\u001b[0m\u001b[1;33m.\u001b[0m\u001b[0mastr\u001b[0m\u001b[1;33m\u001b[0m\u001b[1;33m\u001b[0m\u001b[0m\n\u001b[0m",
      "\u001b[1;32mC:\\ProgramData\\Anaconda3\\lib\\site-packages\\pandas\\core\\series.py\u001b[0m in \u001b[0;36m__getitem__\u001b[1;34m(self, key)\u001b[0m\n\u001b[0;32m    866\u001b[0m         \u001b[0mkey\u001b[0m \u001b[1;33m=\u001b[0m \u001b[0mcom\u001b[0m\u001b[1;33m.\u001b[0m\u001b[0mapply_if_callable\u001b[0m\u001b[1;33m(\u001b[0m\u001b[0mkey\u001b[0m\u001b[1;33m,\u001b[0m \u001b[0mself\u001b[0m\u001b[1;33m)\u001b[0m\u001b[1;33m\u001b[0m\u001b[1;33m\u001b[0m\u001b[0m\n\u001b[0;32m    867\u001b[0m         \u001b[1;32mtry\u001b[0m\u001b[1;33m:\u001b[0m\u001b[1;33m\u001b[0m\u001b[1;33m\u001b[0m\u001b[0m\n\u001b[1;32m--> 868\u001b[1;33m             \u001b[0mresult\u001b[0m \u001b[1;33m=\u001b[0m \u001b[0mself\u001b[0m\u001b[1;33m.\u001b[0m\u001b[0mindex\u001b[0m\u001b[1;33m.\u001b[0m\u001b[0mget_value\u001b[0m\u001b[1;33m(\u001b[0m\u001b[0mself\u001b[0m\u001b[1;33m,\u001b[0m \u001b[0mkey\u001b[0m\u001b[1;33m)\u001b[0m\u001b[1;33m\u001b[0m\u001b[1;33m\u001b[0m\u001b[0m\n\u001b[0m\u001b[0;32m    869\u001b[0m \u001b[1;33m\u001b[0m\u001b[0m\n\u001b[0;32m    870\u001b[0m             \u001b[1;32mif\u001b[0m \u001b[1;32mnot\u001b[0m \u001b[0mis_scalar\u001b[0m\u001b[1;33m(\u001b[0m\u001b[0mresult\u001b[0m\u001b[1;33m)\u001b[0m\u001b[1;33m:\u001b[0m\u001b[1;33m\u001b[0m\u001b[1;33m\u001b[0m\u001b[0m\n",
      "\u001b[1;32mC:\\ProgramData\\Anaconda3\\lib\\site-packages\\pandas\\core\\indexes\\base.py\u001b[0m in \u001b[0;36mget_value\u001b[1;34m(self, series, key)\u001b[0m\n\u001b[0;32m   4373\u001b[0m         \u001b[1;32mtry\u001b[0m\u001b[1;33m:\u001b[0m\u001b[1;33m\u001b[0m\u001b[1;33m\u001b[0m\u001b[0m\n\u001b[0;32m   4374\u001b[0m             return self._engine.get_value(s, k,\n\u001b[1;32m-> 4375\u001b[1;33m                                           tz=getattr(series.dtype, 'tz', None))\n\u001b[0m\u001b[0;32m   4376\u001b[0m         \u001b[1;32mexcept\u001b[0m \u001b[0mKeyError\u001b[0m \u001b[1;32mas\u001b[0m \u001b[0me1\u001b[0m\u001b[1;33m:\u001b[0m\u001b[1;33m\u001b[0m\u001b[1;33m\u001b[0m\u001b[0m\n\u001b[0;32m   4377\u001b[0m             \u001b[1;32mif\u001b[0m \u001b[0mlen\u001b[0m\u001b[1;33m(\u001b[0m\u001b[0mself\u001b[0m\u001b[1;33m)\u001b[0m \u001b[1;33m>\u001b[0m \u001b[1;36m0\u001b[0m \u001b[1;32mand\u001b[0m \u001b[1;33m(\u001b[0m\u001b[0mself\u001b[0m\u001b[1;33m.\u001b[0m\u001b[0mholds_integer\u001b[0m\u001b[1;33m(\u001b[0m\u001b[1;33m)\u001b[0m \u001b[1;32mor\u001b[0m \u001b[0mself\u001b[0m\u001b[1;33m.\u001b[0m\u001b[0mis_boolean\u001b[0m\u001b[1;33m(\u001b[0m\u001b[1;33m)\u001b[0m\u001b[1;33m)\u001b[0m\u001b[1;33m:\u001b[0m\u001b[1;33m\u001b[0m\u001b[1;33m\u001b[0m\u001b[0m\n",
      "\u001b[1;32mpandas/_libs/index.pyx\u001b[0m in \u001b[0;36mpandas._libs.index.IndexEngine.get_value\u001b[1;34m()\u001b[0m\n",
      "\u001b[1;32mpandas/_libs/index.pyx\u001b[0m in \u001b[0;36mpandas._libs.index.IndexEngine.get_value\u001b[1;34m()\u001b[0m\n",
      "\u001b[1;32mpandas/_libs/index.pyx\u001b[0m in \u001b[0;36mpandas._libs.index.IndexEngine.get_loc\u001b[1;34m()\u001b[0m\n",
      "\u001b[1;32mpandas/_libs/index_class_helper.pxi\u001b[0m in \u001b[0;36mpandas._libs.index.Int64Engine._check_type\u001b[1;34m()\u001b[0m\n",
      "\u001b[1;31mKeyError\u001b[0m: 'content'"
     ]
    }
   ],
   "source": [
    "string_cont = content['content'].astr"
   ]
  },
  {
   "cell_type": "code",
   "execution_count": 41,
   "metadata": {},
   "outputs": [
    {
     "data": {
      "text/plain": [
       "<pandas.core.strings.StringMethods at 0x23516d015f8>"
      ]
     },
     "execution_count": 41,
     "metadata": {},
     "output_type": "execute_result"
    }
   ],
   "source": [
    "string_cont\n"
   ]
  },
  {
   "cell_type": "code",
   "execution_count": null,
   "metadata": {},
   "outputs": [],
   "source": []
  }
 ],
 "metadata": {
  "kernelspec": {
   "display_name": "Python 3",
   "language": "python",
   "name": "python3"
  },
  "language_info": {
   "codemirror_mode": {
    "name": "ipython",
    "version": 3
   },
   "file_extension": ".py",
   "mimetype": "text/x-python",
   "name": "python",
   "nbconvert_exporter": "python",
   "pygments_lexer": "ipython3",
   "version": "3.6.8"
  }
 },
 "nbformat": 4,
 "nbformat_minor": 2
}
