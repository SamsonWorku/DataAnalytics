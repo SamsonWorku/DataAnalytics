{
 "cells": [
  {
   "cell_type": "code",
   "execution_count": null,
   "metadata": {},
   "outputs": [],
   "source": [
    "import urllib.request as urllib2"
   ]
  },
  {
   "cell_type": "code",
   "execution_count": null,
   "metadata": {},
   "outputs": [],
   "source": [
    "wiki = \"https://en.wikipedia.org/wiki/List_of_counties_in_Maryland#List_of_counties\"\n"
   ]
  },
  {
   "cell_type": "code",
   "execution_count": null,
   "metadata": {},
   "outputs": [],
   "source": [
    "page = urllib2.urlopen(wiki)"
   ]
  },
  {
   "cell_type": "code",
   "execution_count": null,
   "metadata": {},
   "outputs": [],
   "source": [
    "print(page)"
   ]
  },
  {
   "cell_type": "code",
   "execution_count": null,
   "metadata": {},
   "outputs": [],
   "source": [
    "from bs4 import BeautifulSoup"
   ]
  },
  {
   "cell_type": "code",
   "execution_count": null,
   "metadata": {},
   "outputs": [],
   "source": [
    "soup = BeautifulSoup(page, \"lxml\")"
   ]
  },
  {
   "cell_type": "code",
   "execution_count": null,
   "metadata": {},
   "outputs": [],
   "source": [
    "soup"
   ]
  },
  {
   "cell_type": "code",
   "execution_count": null,
   "metadata": {},
   "outputs": [],
   "source": [
    "print(soup.prettify())"
   ]
  },
  {
   "cell_type": "code",
   "execution_count": null,
   "metadata": {},
   "outputs": [],
   "source": [
    "soup.title"
   ]
  },
  {
   "cell_type": "code",
   "execution_count": null,
   "metadata": {},
   "outputs": [],
   "source": [
    "soup.find_all(\"a\")"
   ]
  },
  {
   "cell_type": "code",
   "execution_count": null,
   "metadata": {},
   "outputs": [],
   "source": [
    "all_links=soup.find_all(\"a\")\n",
    "for link in all_links:\n",
    "    print(link.get(\"href\"))"
   ]
  },
  {
   "cell_type": "code",
   "execution_count": null,
   "metadata": {},
   "outputs": [],
   "source": [
    "all_tables = soup.find_all('table')\n",
    "all_tables"
   ]
  },
  {
   "cell_type": "code",
   "execution_count": null,
   "metadata": {
    "scrolled": false
   },
   "outputs": [],
   "source": [
    "right_table=soup.find('table', class_= 'wikitable sortable')\n",
    "right_table"
   ]
  },
  {
   "cell_type": "code",
   "execution_count": null,
   "metadata": {},
   "outputs": [],
   "source": [
    "#Generate lists\n",
    "A=[]\n",
    "B=[]\n",
    "C=[]\n",
    "D=[]\n",
    "E=[]\n",
    "F=[]\n",
    "G=[]\n",
    "H=[]\n",
    "I=[]\n",
    "J=[]\n",
    "K=[]\n",
    "\n",
    "#\n",
    "for row in right_table.findAll(\"tr\"):\n",
    "    cells = row.findAll('th')\n",
    "    if len(cells)==11: #Only extract table body not heading\n",
    "        A.append(cells[0].find(text=True)) #gets info in County column and adds it to list A\n",
    "        B.append(cells[1].find(text=True)) # gets info from  FIPS code column and adds it to list B\n",
    "        C.append(cells[2].find(text=True)) # gets info from County seat column; add it to list C\n",
    "        D.append(cells[3].find(text=True)) # gets info from Established column and adds it to list D\n",
    "        E.append(cells[4].find(text=True)) # gets info from Origin since column and adds it to list E\n",
    "        F.append(cells[5].find(text=True)) # gets info from Etymology column and adds it to list F\n",
    "        G.append(cells[6].find(text=True)) # gets info from Flag column and adds it to list G\n",
    "        H.append(cells[7].find(text=True)) # gets info from Seal column and adds it to list H\n",
    "        I.append(cells[8].find(text=True)) # gets info from Population in State column and adds it to list I\n",
    "        J.append(cells[9].find(text=True)) # gets info from Area in US column and adds it to list J\n",
    "        K.append(cells[10].find(text=True)) # gets info from Map column and adds it to list K"
   ]
  },
  {
   "cell_type": "code",
   "execution_count": null,
   "metadata": {},
   "outputs": [],
   "source": [
    "A"
   ]
  },
  {
   "cell_type": "code",
   "execution_count": null,
   "metadata": {},
   "outputs": [],
   "source": [
    "for row in right_table.findAll(\"tr\"):\n",
    "    cells = row.findAll('th')\n",
    "    if len(cells)==1: #Only extract table body not heading\n",
    "        A.append(cells[0].find(text=True)) #gets info in County column and adds it to list A\n",
    "        "
   ]
  },
  {
   "cell_type": "code",
   "execution_count": null,
   "metadata": {},
   "outputs": [],
   "source": [
    "A"
   ]
  },
  {
   "cell_type": "code",
   "execution_count": null,
   "metadata": {},
   "outputs": [],
   "source": [
    "import pandas as pd\n",
    "df=pd.DataFrame(A, columns=['County']) #turn list A into df first\n",
    "#add other lists as new columns\n",
    "df['FIPS code'] = B\n",
    "df['County seat'] = C\n",
    "df['Established'] = D\n",
    "df['Origin'] = E\n",
    "df['Etymology'] = F\n",
    "df['Flag'] = G\n",
    "df['Seal'] = H\n",
    "df['Population'] = I\n",
    "df['Area'] = J\n",
    "df['Map'] = K\n",
    "\n",
    "df.head()"
   ]
  },
  {
   "cell_type": "code",
   "execution_count": null,
   "metadata": {},
   "outputs": [],
   "source": [
    "df.to_csv(\"MarlandCounties.csv\")"
   ]
  },
  {
   "cell_type": "code",
   "execution_count": null,
   "metadata": {},
   "outputs": [],
   "source": []
  }
 ],
 "metadata": {
  "kernelspec": {
   "display_name": "Python 3",
   "language": "python",
   "name": "python3"
  },
  "language_info": {
   "codemirror_mode": {
    "name": "ipython",
    "version": 3
   },
   "file_extension": ".py",
   "mimetype": "text/x-python",
   "name": "python",
   "nbconvert_exporter": "python",
   "pygments_lexer": "ipython3",
   "version": "3.7.1"
  }
 },
 "nbformat": 4,
 "nbformat_minor": 2
}
